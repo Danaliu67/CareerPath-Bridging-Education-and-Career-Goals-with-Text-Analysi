{
 "cells": [
  {
   "cell_type": "code",
   "execution_count": 32,
   "id": "53016766",
   "metadata": {},
   "outputs": [],
   "source": [
    "from sklearn.feature_extraction.text import TfidfVectorizer\n",
    "import pandas as pd\n",
    "import numpy as np"
   ]
  },
  {
   "cell_type": "code",
   "execution_count": 33,
   "id": "436ab806",
   "metadata": {},
   "outputs": [
    {
     "data": {
      "text/html": [
       "<div>\n",
       "<style scoped>\n",
       "    .dataframe tbody tr th:only-of-type {\n",
       "        vertical-align: middle;\n",
       "    }\n",
       "\n",
       "    .dataframe tbody tr th {\n",
       "        vertical-align: top;\n",
       "    }\n",
       "\n",
       "    .dataframe thead th {\n",
       "        text-align: right;\n",
       "    }\n",
       "</style>\n",
       "<table border=\"1\" class=\"dataframe\">\n",
       "  <thead>\n",
       "    <tr style=\"text-align: right;\">\n",
       "      <th></th>\n",
       "      <th>Schoole</th>\n",
       "      <th>program</th>\n",
       "      <th>description</th>\n",
       "    </tr>\n",
       "  </thead>\n",
       "  <tbody>\n",
       "    <tr>\n",
       "      <th>0</th>\n",
       "      <td>SAIC</td>\n",
       "      <td>Architecture, Interior Arch, Designed Objects</td>\n",
       "      <td>['relate', 'artmaking', 'approach', 'pedagogy'...</td>\n",
       "    </tr>\n",
       "    <tr>\n",
       "      <th>1</th>\n",
       "      <td>SAIC</td>\n",
       "      <td>Art and Technology</td>\n",
       "      <td>['medium', 'introduces', 'graduate', 'student'...</td>\n",
       "    </tr>\n",
       "    <tr>\n",
       "      <th>2</th>\n",
       "      <td>SAIC</td>\n",
       "      <td>Art Education</td>\n",
       "      <td>['student', 'deepen', 'approach', 'fashion', '...</td>\n",
       "    </tr>\n",
       "    <tr>\n",
       "      <th>3</th>\n",
       "      <td>SAIC</td>\n",
       "      <td>Art History</td>\n",
       "      <td>['discussion', 'examine', 'documentation', 'an...</td>\n",
       "    </tr>\n",
       "    <tr>\n",
       "      <th>4</th>\n",
       "      <td>SAIC</td>\n",
       "      <td>Art Therapy</td>\n",
       "      <td>['consultation', 'study', 'student', 'spend', ...</td>\n",
       "    </tr>\n",
       "    <tr>\n",
       "      <th>...</th>\n",
       "      <td>...</td>\n",
       "      <td>...</td>\n",
       "      <td>...</td>\n",
       "    </tr>\n",
       "    <tr>\n",
       "      <th>149</th>\n",
       "      <td>Edinburgh</td>\n",
       "      <td>Professional Experience Support: UK Part 3 (AR...</td>\n",
       "      <td>['arb', 'riba', 'title', 'examination', 'pract...</td>\n",
       "    </tr>\n",
       "    <tr>\n",
       "      <th>150</th>\n",
       "      <td>Edinburgh</td>\n",
       "      <td>Sound Design - MSc</td>\n",
       "      <td>['study', 'msc', 'design', 'expand', 'apprecia...</td>\n",
       "    </tr>\n",
       "    <tr>\n",
       "      <th>151</th>\n",
       "      <td>Edinburgh</td>\n",
       "      <td>Textiles - BA (Hons)</td>\n",
       "      <td>['texture', 'form', 'department', 'continue', ...</td>\n",
       "    </tr>\n",
       "    <tr>\n",
       "      <th>152</th>\n",
       "      <td>Edinburgh</td>\n",
       "      <td>Updates in Architectural Management course</td>\n",
       "      <td>['aim', 'candidate', 'arb', 'riba', 'examinati...</td>\n",
       "    </tr>\n",
       "    <tr>\n",
       "      <th>153</th>\n",
       "      <td>Edinburgh</td>\n",
       "      <td>Urban Strategies and Design - MSc</td>\n",
       "      <td>['study', 'msc', 'strategy', 'design', 'eca', ...</td>\n",
       "    </tr>\n",
       "  </tbody>\n",
       "</table>\n",
       "<p>154 rows × 3 columns</p>\n",
       "</div>"
      ],
      "text/plain": [
       "       Schoole                                            program  \\\n",
       "0         SAIC      Architecture, Interior Arch, Designed Objects   \n",
       "1         SAIC                                 Art and Technology   \n",
       "2         SAIC                                      Art Education   \n",
       "3         SAIC                                        Art History   \n",
       "4         SAIC                                        Art Therapy   \n",
       "..         ...                                                ...   \n",
       "149  Edinburgh  Professional Experience Support: UK Part 3 (AR...   \n",
       "150  Edinburgh                                 Sound Design - MSc   \n",
       "151  Edinburgh                               Textiles - BA (Hons)   \n",
       "152  Edinburgh         Updates in Architectural Management course   \n",
       "153  Edinburgh                  Urban Strategies and Design - MSc   \n",
       "\n",
       "                                           description  \n",
       "0    ['relate', 'artmaking', 'approach', 'pedagogy'...  \n",
       "1    ['medium', 'introduces', 'graduate', 'student'...  \n",
       "2    ['student', 'deepen', 'approach', 'fashion', '...  \n",
       "3    ['discussion', 'examine', 'documentation', 'an...  \n",
       "4    ['consultation', 'study', 'student', 'spend', ...  \n",
       "..                                                 ...  \n",
       "149  ['arb', 'riba', 'title', 'examination', 'pract...  \n",
       "150  ['study', 'msc', 'design', 'expand', 'apprecia...  \n",
       "151  ['texture', 'form', 'department', 'continue', ...  \n",
       "152  ['aim', 'candidate', 'arb', 'riba', 'examinati...  \n",
       "153  ['study', 'msc', 'strategy', 'design', 'eca', ...  \n",
       "\n",
       "[154 rows x 3 columns]"
      ]
     },
     "execution_count": 33,
     "metadata": {},
     "output_type": "execute_result"
    }
   ],
   "source": [
    "#sentences = data[\"description\"]\n",
    "df = pd.read_csv(\"D:/assignment/7102/program data_pre(ver2)(1).csv\")\n",
    "df\n"
   ]
  },
  {
   "cell_type": "code",
   "execution_count": 34,
   "id": "537b7d6f",
   "metadata": {},
   "outputs": [],
   "source": [
    "content = df['description']\n",
    "sentences = []\n",
    "for i in range(len(content)):\n",
    "    a = content[i]\n",
    "    a = a.replace(\",\",\" \")\n",
    "    a = a.replace(\"'\",\"\")\n",
    "    a = a.replace(\"[\",\"\")\n",
    "    a = a.replace(\"]\",\"\")\n",
    "    sentences.append(a)\n",
    "#sentences"
   ]
  },
  {
   "cell_type": "code",
   "execution_count": 35,
   "id": "d5fae4ae",
   "metadata": {},
   "outputs": [
    {
     "name": "stdout",
     "output_type": "stream",
     "text": [
      "[[0. 0. 0. ... 0. 0. 0.]\n",
      " [0. 0. 0. ... 0. 0. 0.]\n",
      " [0. 0. 0. ... 0. 0. 0.]\n",
      " ...\n",
      " [0. 0. 0. ... 0. 0. 0.]\n",
      " [0. 0. 0. ... 0. 0. 0.]\n",
      " [0. 0. 0. ... 0. 0. 0.]]\n"
     ]
    }
   ],
   "source": [
    "vectorizer = TfidfVectorizer(norm = None)\n",
    "X = vectorizer.fit_transform(sentences)\n",
    "print(X.toarray())"
   ]
  },
  {
   "cell_type": "markdown",
   "id": "8147ba1c",
   "metadata": {},
   "source": [
    "# Ordering all words by tfidf"
   ]
  },
  {
   "cell_type": "code",
   "execution_count": 37,
   "id": "58376ea7",
   "metadata": {},
   "outputs": [
    {
     "name": "stdout",
     "output_type": "stream",
     "text": [
      "(154, 4882)\n"
     ]
    },
    {
     "name": "stderr",
     "output_type": "stream",
     "text": [
      "e:\\anaconda\\lib\\site-packages\\sklearn\\utils\\deprecation.py:87: FutureWarning: Function get_feature_names is deprecated; get_feature_names is deprecated in 1.0 and will be removed in 1.2. Please use get_feature_names_out instead.\n",
      "  warnings.warn(msg, category=FutureWarning)\n"
     ]
    },
    {
     "data": {
      "text/html": [
       "<div>\n",
       "<style scoped>\n",
       "    .dataframe tbody tr th:only-of-type {\n",
       "        vertical-align: middle;\n",
       "    }\n",
       "\n",
       "    .dataframe tbody tr th {\n",
       "        vertical-align: top;\n",
       "    }\n",
       "\n",
       "    .dataframe thead th {\n",
       "        text-align: right;\n",
       "    }\n",
       "</style>\n",
       "<table border=\"1\" class=\"dataframe\">\n",
       "  <thead>\n",
       "    <tr style=\"text-align: right;\">\n",
       "      <th></th>\n",
       "      <th>word</th>\n",
       "      <th>tfidf</th>\n",
       "    </tr>\n",
       "  </thead>\n",
       "  <tbody>\n",
       "    <tr>\n",
       "      <th>4306</th>\n",
       "      <td>student</td>\n",
       "      <td>3698.903098</td>\n",
       "    </tr>\n",
       "    <tr>\n",
       "      <th>782</th>\n",
       "      <td>class</td>\n",
       "      <td>1775.577038</td>\n",
       "    </tr>\n",
       "    <tr>\n",
       "      <th>3517</th>\n",
       "      <td>project</td>\n",
       "      <td>1588.427204</td>\n",
       "    </tr>\n",
       "    <tr>\n",
       "      <th>1189</th>\n",
       "      <td>design</td>\n",
       "      <td>1232.611571</td>\n",
       "    </tr>\n",
       "    <tr>\n",
       "      <th>4309</th>\n",
       "      <td>studio</td>\n",
       "      <td>1046.531154</td>\n",
       "    </tr>\n",
       "    <tr>\n",
       "      <th>...</th>\n",
       "      <td>...</td>\n",
       "      <td>...</td>\n",
       "    </tr>\n",
       "    <tr>\n",
       "      <th>2331</th>\n",
       "      <td>invest</td>\n",
       "      <td>5.350278</td>\n",
       "    </tr>\n",
       "    <tr>\n",
       "      <th>2334</th>\n",
       "      <td>invitation</td>\n",
       "      <td>5.350278</td>\n",
       "    </tr>\n",
       "    <tr>\n",
       "      <th>2338</th>\n",
       "      <td>ip</td>\n",
       "      <td>5.350278</td>\n",
       "    </tr>\n",
       "    <tr>\n",
       "      <th>2339</th>\n",
       "      <td>iplayers</td>\n",
       "      <td>5.350278</td>\n",
       "    </tr>\n",
       "    <tr>\n",
       "      <th>4881</th>\n",
       "      <td>zora</td>\n",
       "      <td>5.350278</td>\n",
       "    </tr>\n",
       "  </tbody>\n",
       "</table>\n",
       "<p>4882 rows × 2 columns</p>\n",
       "</div>"
      ],
      "text/plain": [
       "            word        tfidf\n",
       "4306     student  3698.903098\n",
       "782        class  1775.577038\n",
       "3517     project  1588.427204\n",
       "1189      design  1232.611571\n",
       "4309      studio  1046.531154\n",
       "...          ...          ...\n",
       "2331      invest     5.350278\n",
       "2334  invitation     5.350278\n",
       "2338          ip     5.350278\n",
       "2339    iplayers     5.350278\n",
       "4881        zora     5.350278\n",
       "\n",
       "[4882 rows x 2 columns]"
      ]
     },
     "execution_count": 37,
     "metadata": {},
     "output_type": "execute_result"
    }
   ],
   "source": [
    "#print(vectorizer.vocabulary_)\n",
    "#print(vectorizer.get_feature_names())\n",
    "#print(X)\n",
    "print(X.shape)\n",
    "word = {\"word\":vectorizer.get_feature_names(), 'tfidf':X.toarray().sum(axis=0).tolist()}\n",
    "word = pd.DataFrame(word)\n",
    "word.sort_values(by='tfidf',ascending = False)"
   ]
  },
  {
   "cell_type": "markdown",
   "id": "fa1c8140",
   "metadata": {},
   "source": [
    "# words and tfidf for each document"
   ]
  },
  {
   "cell_type": "code",
   "execution_count": 38,
   "id": "c5f536f2",
   "metadata": {},
   "outputs": [
    {
     "name": "stdout",
     "output_type": "stream",
     "text": [
      "{'con': 4.944812828251137, 'aesthetic': 3.47847575945771, 'ethic': 3.846200539583027, 'discus': 4.433987204485146, 'session': 3.740840023925201, 'performance': 2.8245492920510458, 'endeavor': 4.657130755799356, 'collaborate': 4.433987204485146, 'methodology': 3.0476928433652555, 'transformation': 4.433987204485146, 'force': 3.846200539583027, 'identity': 3.2102117728630306, 'reimaging': 5.350277936359301, 'recombine': 5.350277936359301, 'hartman': 4.944812828251137, 'appadurai': 4.944812828251137, 'arjun': 4.944812828251137, 'oz': 4.944812828251137, 'mu': 4.944812828251137, 'vizenor': 4.944812828251137, 'gerald': 4.944812828251137, 'campt': 4.944812828251137, 'tina': 4.944812828251137, 'russell': 4.944812828251137, 'hall': 4.944812828251137, 'stuart': 4.433987204485146, 'audra': 4.944812828251137, 'tuck': 4.657130755799356, 'market': 3.645529844120876, 'flea': 4.944812828251137, 'informal': 4.657130755799356, 'harold': 4.944812828251137, 'harsch': 4.944812828251137, 'ayers': 4.944812828251137, 'glbtq': 4.944812828251137, 'hardt': 4.944812828251137, 'gerber': 4.944812828251137, 'sit': 4.251665647691191, 'researcher': 4.657130755799356, 'archivist': 4.944812828251137, 'library': 8.195029935727867, 'trip': 3.0476928433652555, 'narrative': 6.670749831634073, 'counter': 9.889625656502274, 'archive': 10.675555401393739, 'memory': 7.692401079166054, 'remixing': 9.889625656502274, 'future': 3.404367787303988, 'destabilize': 4.944812828251137, 'scholar': 3.098986137752806, 'haunt': 4.433987204485146, 'superfutures': 4.944812828251137, 'lock': 4.944812828251137, 'damon': 4.944812828251137, 'esparza': 4.944812828251137, 'rafa': 4.944812828251137, 'architecture': 2.907930900990097, 'tirza': 4.944812828251137, 'hopinka': 4.657130755799356, 'sky': 4.657130755799356, 'decolonizethisplace': 4.657130755799356, 'audio': 3.740840023925201, 'empire': 4.944812828251137, 'resist': 4.433987204485146, 'cultural': 4.433987204485146, 'activation': 5.350277936359301, 'green': 5.350277936359301, 'riverbank': 5.350277936359301, 'intervention': 4.433987204485146, 'team': 3.47847575945771, 'review': 5.9978053583916475, 'varies': 5.350277936359301, 'ordinance': 4.944812828251137, 'eu': 5.350277936359301, 'website': 3.740840023925201, 'activist': 8.195029935727867, 'innovator': 4.657130755799356, 'accord': 3.645529844120876, 'stockholm': 5.350277936359301, 'energy': 4.433987204485146, 'food': 4.657130755799356, 'oxfam': 5.350277936359301, 'health': 3.645529844120876, 'muir': 5.350277936359301, 'carson': 5.350277936359301, 'leopold': 4.944812828251137, 'initiator': 5.350277936359301, 'bibliography': 3.9639835752394106, 'access': 3.5585184671312464, 'awareness': 3.645529844120876, 'activate': 4.657130755799356, 'interactives': 5.350277936359301, 'ar': 5.350277936359301, 'generate': 3.3353749158170367, 'floating': 5.350277936359301, 'crisis': 4.251665647691191, 'freshwater': 5.350277936359301, 'riverwalking': 5.350277936359301, 'kayak': 5.350277936359301, 'app': 4.657130755799356, 'hush': 5.350277936359301, 'quiet': 5.350277936359301, 'record': 3.47847575945771, 'island': 9.889625656502274, 'bike': 5.350277936359301, 'autopsy': 5.350277936359301, 'outdoors': 5.350277936359301, 'policy': 4.097514967863933, 'politics': 3.2102117728630306, 'water': 13.971392267398068, 'waterways': 5.350277936359301, 'lecture': 8.242764752744753, 'installation': 8.857147990682792, 'workshops': 4.433987204485146, 'soundwalks': 10.700555872718603, 'map': 15.855934300957642, 'deploy': 4.657130755799356, 'coexistence': 5.350277936359301, 'biodiversity': 4.944812828251137, 'imagine': 8.195029935727867, 'mapping': 4.433987204485146, 'sound': 6.420423545726061, 'transient': 5.350277936359301, 'riverworks': 5.350277936359301, 'chicago': 10.00612474745111, 'eco': 9.889625656502274, 'generationliberation': 4.657130755799356, 'feature': 4.097514967863933, 'folk': 4.097514967863933, 'live': 3.740840023925201, 'story': 3.3353749158170367, 'piece': 3.0476928433652555, 'reflective': 4.657130755799356, 'zine': 4.433987204485146, 'comic': 3.846200539583027, 'video': 2.9523826635609307, 'object': 8.473647876153137, 'representation': 3.153053359023082, 'screening': 3.153053359023082, 'recording': 3.846200539583027, 'movement': 2.8245492920510458, 'ageism': 4.944812828251137, 'age': 3.645529844120876, 'family': 3.9639835752394106, 'spirituality': 4.433987204485146, 'sex': 4.433987204485146, 'gender': 3.098986137752806, 'life': 8.242764752744753, 'generation': 4.657130755799356, 'queer': 7.927967150478821, 'elder': 9.314261511598712, 'lgbtq': 9.314261511598712, 'bring': 6.197972275505612, 'hold': 3.153053359023082, 'partnership': 8.867974408970293, 'ongoing': 4.657130755799356, 'society': 3.153053359023082, 'citizen': 4.657130755799356, 'tool': 2.9523826635609307, 'motivation': 4.657130755799356, 'application': 5.495176501829835, 'tie': 4.944812828251137, 'strengthen': 4.657130755799356, 'establish': 3.404367787303988, 'visit': 15.466135284717119, 'participate': 2.8245492920510458, 'innovation': 3.645529844120876, 'goal': 5.815861801980194, 'achieve': 3.645529844120876, 'alliance': 5.350277936359301, 'resource': 3.404367787303988, 'twenty': 4.097514967863933, 'start': 3.47847575945771, 'citizenship': 4.944812828251137, 'raise': 8.503331295382383, 'hop': 4.944812828251137, 'leave': 3.846200539583027, 'street': 4.433987204485146, 'cross': 4.251665647691191, 'preparation': 10.936589532362628, 'sample': 10.00612474745111, 'exemplars': 16.050833809077904, 'evening': 13.971392267398068, 'respective': 16.050833809077904, 'saic': 20.87085455674626, 'day': 18.91832015413849, 'implement': 11.891950725718232, 'encompass': 13.971392267398068, 'isbe': 16.050833809077904, 'board': 13.30196161345544, 'illinois': 16.050833809077904, 'define': 10.936589532362628, 'mandate': 16.050833809077904, 'cover': 7.06363698841593, 'attend': 20.426206723823928, 'placement': 83.82835360438841, 'apprentice': 48.152501427233716, 'continuity': 13.971392267398068, 'connection': 11.222520071775602, 'groundwork': 14.83443848475341, 'management': 10.43542727837313, 'guide': 10.675555401393739, 'staff': 13.971392267398068, 'relationship': 7.926683205771274, 'evaluate': 15.384802158332109, 'observe': 15.855934300957642, 'director': 3.846200539583027, 'register': 3.740840023925201, 'permission': 4.433987204485146, 'program': 12.395944551011224, 'call': 3.9639835752394106, 'average': 4.944812828251137, 'total': 3.9639835752394106, 'require': 2.2592354830009853, 'participation': 6.808735574607976, 'adviser': 4.944812828251137, 'faculty': 2.9989026791958238, 'assign': 12.395944551011224, 'organization': 13.617471149215952, 'position': 3.645529844120876, 'capx': 17.735948817940585, 'graduate': 5.495176501829835, 'internship': 11.222520071775602, 'career': 6.197972275505612, 'sectione02': 4.944812828251137, 'credit': 3.3353749158170367, 'week': 29.523826635609307, 'hour': 16.676874579085183, 'spend': 17.39237879728855, 'supervisor': 3.846200539583027, 'site': 30.476928433652553, 'field': 4.429567440860303, 'choice': 6.54167278935893, 'relating': 4.944812828251137, 'dialogue': 10.936589532362628, 'supervision': 4.433987204485146, 'time': 19.460057634200176, 'agree': 9.889625656502274, 'instructor': 6.420423545726061, 'fieldwork': 17.735948817940585, 'thesis': 2.8245492920510458, 'sectione01': 5.350277936359301, 'context': 5.218875824868201, 'verbal': 10.700555872718603, 'affect': 7.481680047850402, 'choose': 6.197972275505612, 'orientation': 8.867974408970293, 'theme': 16.676874579085183, 'topic': 9.519453883158402, 'sequence': 7.481680047850402, 'content': 5.815861801980194, 'sharing': 21.401111745437206, 'frame': 14.963360095700803, 'contextsaesthetics': 10.700555872718603, 'interrogate': 7.927967150478821, 'diversity': 21.351110802787478, 'ability': 12.395944551011224, 'cognitive': 19.779251313004547, 'sexuality': 18.628523023197424, 'geography': 21.401111745437206, 'ethnicity': 17.735948817940585, 'class': 23.78004961731382, 'influence': 13.341499663268147, 'reflect': 17.39237879728855, 'worker': 18.628523023197424, 'agency': 8.867974408970293, 'purpose': 7.291059688241752, 'sense': 11.222520071775602, 'focus': 4.1088821407099445, 'museums': 4.944812828251137, 'comment': 4.944812828251137, 'collaboration': 6.420423545726061, 'reach': 4.944812828251137, 'effort': 4.251665647691191, 'concept': 7.733067642358559, 'exhibition': 6.095385686730511, 'evaluation': 4.251665647691191, 'audience': 6.808735574607976, 'examines': 4.944812828251137, 'integrate': 15.49493068876403, 'lesson': 4.657130755799356, 'variety': 2.7112206067440425, 'incorporate': 3.404367787303988, 'construct': 3.404367787303988, 'interaction': 3.3353749158170367, 'mediate': 3.9639835752394106, 'text': 2.8245492920510458, 'critique': 16.485529505489506, 'explores': 5.350277936359301, 'implication': 3.645529844120876, 'change': 6.306106718046164, 'nature': 3.5585184671312464, 'expression': 2.907930900990097, 'outlet': 5.350277936359301, 'environment': 8.355985736693293, 'classroom': 23.077203237498164, 'medium': 25.104475013482524, 'technology': 26.761292869327725, 'emerge': 24.909629269918725, 'aspect': 2.7112206067440425, 'service': 3.846200539583027, 'introduces': 3.47847575945771, 'cyberpedagogy': 5.350277936359301, 'wilson': 4.251665647691191, 'fred': 5.350277936359301, 'luna': 5.350277936359301, 'james': 4.097514967863933, 'carlson': 5.350277936359301, 'andrea': 4.433987204485146, 'bell': 4.433987204485146, 'alexandra': 4.944812828251137, 'loza': 5.350277936359301, 'la': 4.657130755799356, 'de': 3.270836394679465, 'sandra': 4.657130755799356, 'land': 4.657130755799356, 'center': 17.02183893651994, 'mogel': 5.350277936359301, 'dimension': 4.433987204485146, 'form': 12.440385277149165, 'collection': 21.33384990355679, 'criticism': 3.740840023925201, 'draw': 2.907930900990097, 'reproducing': 5.350277936359301, 'play': 2.9523826635609307, 'artists': 10.936589532362628, 'role': 10.187670221811066, 'meaning': 6.670749831634073, 'system': 2.9989026791958238, 'celebrate': 4.944812828251137, 'omit': 5.350277936359301, 'park': 3.9639835752394106, 'neighborhood': 4.657130755799356, 'memorial': 5.350277936359301, 'create': 18.49559414679964, 'city': 14.234073868524986, 'sign': 7.927967150478821, 'wayfinding': 5.350277936359301, 'shape': 3.153053359023082, 'label': 4.944812828251137, 'museum': 30.01837424235333, 'proposal': 5.815861801980194, 'observation': 19.231002697915137, 'interview': 3.153053359023082, 'space': 14.326856432856506, 'organize': 3.740840023925201, 'grassroots': 4.944812828251137, 'activism': 11.891950725718232, 'model': 5.815861801980194, 'public': 9.889625656502274, 'conceptualization': 4.944812828251137, 'implicit': 5.350277936359301, 'examine': 4.344448212022711, 'consumption': 4.251665647691191, 'deal': 4.251665647691191, 'inform': 3.270836394679465, 'premise': 4.251665647691191, 'institution': 17.79259233565623, 'relation': 6.54167278935893, 'concern': 3.0476928433652555, 'survey': 3.47847575945771, 'intend': 3.9639835752394106, 'production': 20.05759900599911, 'consequence': 4.433987204485146, 'theorist': 6.95695151891542, 'century': 6.197972275505612, 'involve': 3.404367787303988, 'seminar': 43.37952970790468, 'semester': 15.853366411542549, 'midterm': 12.2925449035918, 'film': 13.926642894488824, 'represent': 10.936589532362628, 'adolescence': 16.050833809077904, 'interpretation': 20.87085455674626, 'literature': 10.00612474745111, 'illustrate': 12.2925449035918, 'analysis': 13.737941254574588, 'respond': 9.630635318589093, 'question': 14.761913317804654, 'essay': 19.62501836807679, 'theory': 16.840872700350026, 'race': 29.16423875296701, 'disability': 11.891950725718232, 'piaget': 16.050833809077904, 'erik': 16.050833809077904, 'lange': 16.050833809077904, 'vassallo': 16.050833809077904, 'stephen': 14.83443848475341, 'britzman': 16.050833809077904, 'deborah': 13.971392267398068, 'mayo': 16.050833809077904, 'cris': 16.050833809077904, 'shakespeare': 14.83443848475341, 'tom': 13.971392267398068, 'dubois': 16.050833809077904, 'dewey': 14.83443848475341, 'john': 14.234073868524986, 'issue': 28.703817036775106, 'gain': 15.765266795115409, 'formation': 16.050833809077904, 'subject': 10.675555401393739, 'understanding': 14.122746460255229, 'investigate': 14.99451339597912, 'impact': 19.261270637178185, 'childhood': 27.942784534796136, 'history': 30.411137484158978, 'framework': 15.49493068876403, 'historical': 13.971392267398068, 'conception': 49.44812828251137, 'investigation': 9.812509184038396, 'offer': 10.06825836921234, 'challenge': 11.631723603960388, 'opportunity': 21.98070600731934, 'difference': 13.30196161345544, 'human': 18.628523023197424, 'adult': 16.050833809077904, 'adolescent': 21.401111745437206, 'implicate': 16.050833809077904, 'development': 37.2857177585562, 'evolve': 32.02666620418122, 'comprehend': 16.050833809077904, 'educator': 21.401111745437206, 'check': 13.971392267398068, 'pass': 10.936589532362628, 'complete': 15.281505332716598, 'learner': 13.971392267398068, 'language': 8.028387860798318, 'document': 20.87085455674626, 'material': 21.8925648384752, 'presentation': 11.461485146285204, 'image': 8.473647876153137, 'artwork': 17.99341607517494, 'accompany': 12.754996943073575, 'write': 9.839624713852547, 'response': 12.395944551011224, 'discussion': 18.266065387038704, 'assignment': 13.926642894488824, 'possibility': 12.395944551011224, 'principle': 9.143078530095767, 'thinking': 10.675555401393739, 'habit': 13.971392267398068, 'studio': 10.84488242697617, 'behavior': 11.891950725718232, 'justice': 11.222520071775602, 'emelia': 16.050833809077904, 'reggio': 16.050833809077904, 'overview': 22.445040143551203, 'nieto': 16.050833809077904, 'sonia': 14.83443848475341, 'paley': 16.050833809077904, 'lisa': 14.83443848475341, 'thulson': 16.050833809077904, 'anne': 16.050833809077904, 'viktor': 14.83443848475341, 'montessori': 32.10166761815581, 'maria': 27.942784534796136, 'build': 27.112206067440425, 'perspective': 28.377480231207738, 'candidate': 59.853440382803214, 'education': 59.13408791078107, 'study': 19.49080554697146, 'support': 13.737941254574588, 'reading': 52.20417676738344, 'level': 11.141314315591059, 'storytelling': 10.675555401393739, 'inspiration': 12.2925449035918, 'source': 9.812509184038396, 'book': 11.631723603960388, 'picture': 13.30196161345544, 'culture': 38.49342331508577, 'analyze': 27.234942298431903, 'art': 63.83152891654474, 'interpret': 28.46814773704997, 'engage': 19.904616443438663, 'activity': 13.08334557871786, 'speaking': 12.754996943073575, 'writing': 8.723792702970291, 'read': 31.51908415228431, 'literacy': 31.711868601915285, 'connect': 11.891950725718232, 'redesign': 16.050833809077904, 'edit': 10.43542727837313, 'process': 16.056775721596637, 'data': 14.234073868524986, 'input': 13.30196161345544, 'base': 35.697952061844006, 'reflection': 11.891950725718232, 'artworks': 16.050833809077904, 'standardize': 14.83443848475341, 'capture': 12.2925449035918, 'assessment': 35.675852177154695, 'standard': 85.40444321114991, 'select': 18.593916826516836, 'objective': 11.891950725718232, 'core': 8.99670803758747, 'articulate': 11.538601618749082, 'meet': 14.99451339597912, 'instruction': 13.341499663268147, 'differentiate': 16.050833809077904, 'engagement': 20.87085455674626, 'promote': 11.891950725718232, 'strategy': 31.51908415228431, 'learn': 76.407526663583, 'teaching': 72.27831601075026, 'scaffold': 14.83443848475341, 'student': 162.33430523065857, 'identify': 11.891950725718232, 'plan': 40.97514967863933, 'participant': 32.02666620418122, 'idea': 10.70451714773109, 'explore': 41.80638859160971, 'practice': 41.11883263451941, 'range': 20.751799487722906, 'understand': 18.978544247208298, 'develop': 42.92547417701872, 'creativity': 21.258328238455956, 'enhance': 12.2925449035918, 'setting': 41.14924026317721, 'community': 85.96113859713903, 'school': 112.98197168204183, 'youth': 16.050833809077904, 'child': 38.462005395830275, 'experience': 31.313254949209206, 'learning': 28.891905955767275, 'structure': 21.68976485395234, 'skill': 13.979118301289633, 'knowledge': 34.348960558342185, 'artist': 52.35699635737121, 'teach': 113.87126548324979, 'teacher': 75.3156879295488, 'provide': 43.7851296769504, 'method': 25.776892141195198, 'design': 29.488315095202907, 'project': 72.97521612825066, 'curriculum': 57.8742523841678, 'pedagogy': 37.25704604639485, 'approach': 41.75100659894561, 'artmaking': 74.5140920927897, 'relate': 11.298197168204183}\n",
      "{'intern': 4.657130755799356, 'therapist': 13.971392267398068, 'ii': 11.891950725718232, 'acquire': 11.222520071775602, 'depth': 6.808735574607976, 'maatc': 21.401111745437206, 'culminate': 6.95695151891542, 'feminist': 9.889625656502274, 'perspectives': 9.889625656502274, 'parenting': 10.700555872718603, 'parent': 10.700555872718603, 'definition': 7.927967150478821, 'initiate': 3.9639835752394106, 'relative': 4.944812828251137, 'scholarship': 3.846200539583027, 'refinement': 4.944812828251137, 'publication': 12.754996943073575, 'responsibility': 11.222520071775602, 'planning': 4.097514967863933, 'treatment': 18.628523023197424, 'humility': 5.350277936359301, 'empathic': 5.350277936359301, 'recommendation': 5.350277936359301, 'training': 3.846200539583027, 'enroll': 24.5850898071836, 'req': 27.942784534796136, 'professional': 21.873179064725257, 'complexity': 22.445040143551203, 'individual': 23.077203237498164, 'sensitivity': 16.050833809077904, 'client': 41.914176802194206, 'receive': 10.936589532362628, 'complement': 13.971392267398068, 'maat': 5.350277936359301, 'counsel': 34.61368979775796, 'psychology': 4.433987204485146, 'neighbor': 4.944812828251137, 'counseling': 21.401111745437206, 'psychotherapy': 9.889625656502274, 'lay': 4.657130755799356, 'therapy': 48.77385924933661, 'statement': 3.2102117728630306, 'cv': 4.097514967863933, 'tutorial': 3.645529844120876, 'dynamic': 11.891950725718232, 'format': 6.306106718046164, 'basis': 3.5585184671312464, 'html': 4.433987204485146, 'mark': 4.097514967863933, 'hypertext': 5.350277936359301, 'nexus': 5.350277936359301, 'hub': 5.350277936359301, 'function': 3.153053359023082, 'share': 3.2102117728630306, 'file': 3.645529844120876, 'launch': 4.944812828251137, 'web': 23.077203237498164, 'paper': 2.7112206067440425, 'auslander': 5.350277936359301, 'philip': 4.944812828251137, 'frieling': 5.350277936359301, 'rudolf': 5.350277936359301, 'daniel': 5.350277936359301, 'dieter': 4.944812828251137, 'photography': 3.098986137752806, 'telecommunication': 4.944812828251137, 'auditory': 5.350277936359301, 'pure': 5.350277936359301, 'twentieth': 4.944812828251137, 'cod': 4.657130755799356, 'javascript': 4.251665647691191, 'homework': 4.433987204485146, 'sell': 4.657130755799356, 'buy': 4.657130755799356, 'transform': 3.47847575945771, 'terra0': 5.350277936359301, 'oliver': 5.350277936359301, 'julian': 5.350277936359301, 'rothenberg': 5.350277936359301, 'labs': 5.350277936359301, 'larva': 5.350277936359301, 'bitnik': 5.350277936359301, 'sarah': 4.944812828251137, 'lund': 5.350277936359301, 'jonas': 5.350277936359301, 'sussman': 5.350277936359301, 'eve': 4.944812828251137, 'wei': 10.700555872718603, 'filippi': 5.350277936359301, 'primavera': 5.350277936359301, 'contract': 4.251665647691191, 'dapps': 5.350277936359301, 'token': 5.350277936359301, 'solidity': 5.350277936359301, 'ethereum': 5.350277936359301, 'daos': 5.350277936359301, 'decentralize': 10.700555872718603, 'oracle': 5.350277936359301, 'mining': 5.350277936359301, 'basic': 4.097514967863933, 'cryptoart': 5.350277936359301, 'magic': 5.350277936359301, 'meme': 5.350277936359301, 'solutionism': 5.350277936359301, 'computation': 5.350277936359301, 'posthumanism': 5.350277936359301, 'libertarianism': 5.350277936359301, 'capitalism': 8.867974408970293, 'anarcho': 5.350277936359301, 'internet': 4.097514967863933, 'cryptography': 10.700555872718603, 'money': 5.350277936359301, 'thread': 4.433987204485146, 'weave': 4.433987204485146, 'experimentation': 3.404367787303988, 'scheme': 4.944812828251137, 'enterprise': 4.944812828251137, 'crypto': 16.050833809077904, 'company': 4.657130755799356, 'government': 4.251665647691191, 'techno': 5.350277936359301, 'blockchains': 10.700555872718603, 'cash': 5.350277936359301, 'facilitate': 3.740840023925201, 'networkextends': 5.350277936359301, 'occur': 4.251665647691191, 'transaction': 5.350277936359301, 'proof': 4.944812828251137, 'ledger': 5.350277936359301, 'blockchainsnetworked': 5.350277936359301, 'dollar': 4.944812828251137, 'cat': 5.350277936359301, 'adoption': 5.350277936359301, 'cryptocurrencies': 16.050833809077904, 'decade': 4.433987204485146, 'banking': 5.350277936359301, 'centralize': 5.350277936359301, 'alternative': 4.251665647691191, 'blockchain': 32.10166761815581, 'bitcoin': 5.350277936359301, 'wake': 4.944812828251137, 'genre': 3.404367787303988, 'hone': 4.433987204485146, 'gameplay': 5.350277936359301, 'alt': 5.350277936359301, 'cue': 9.889625656502274, 'gamut': 5.350277936359301, 'listening': 4.657130755799356, 'player': 5.350277936359301, 'heighten': 5.350277936359301, 'event': 7.291059688241752, 'contextualize': 4.097514967863933, 'grade': 4.251665647691191, 'boundary': 3.740840023925201, 'push': 3.5585184671312464, '3d': 3.846200539583027, 'unity': 5.350277936359301, 'twine': 4.944812828251137, 'workshop': 3.3353749158170367, 'windows': 5.350277936359301, 'mac': 4.657130755799356, 'apply': 2.7112206067440425, 'increase': 14.582119376483504, 'trope': 5.350277936359301, 'subvert': 9.889625656502274, 'intersect': 4.433987204485146, 'grow': 4.097514967863933, 'telepresence': 10.700555872718603, 'embodiment': 9.889625656502274, 'metaphor': 4.433987204485146, 'immersion': 4.251665647691191, 'consciousness': 4.251665647691191, 'craft': 3.645529844120876, 'master': 3.098986137752806, 'cave': 4.657130755799356, 'stereoscopic': 5.350277936359301, 'head': 4.433987204485146, 'set': 3.098986137752806, 'sketch': 3.5585184671312464, 'casey': 5.350277936359301, 'molnar': 5.350277936359301, 'vera': 4.944812828251137, 'sheridan': 4.944812828251137, 'monfort': 5.350277936359301, 'goto': 5.350277936359301, 'rnd': 5.350277936359301, 'chr': 5.350277936359301, 'print': 3.098986137752806, 'enrich': 4.657130755799356, 'multimedia': 5.350277936359301, 'combine': 6.420423545726061, 'synthesizer': 4.944812828251137, '1970s': 4.657130755799356, 'compute': 10.700555872718603, 'deepen': 3.740840023925201, 'retro': 5.350277936359301, 'vintage': 4.944812828251137, 'sonics': 4.657130755799356, 'vr': 4.944812828251137, 'propose': 3.5585184671312464, 'tracking': 4.944812828251137, 'hearing': 4.944812828251137, 'boom': 4.433987204485146, 'reithemans': 4.944812828251137, 'scott': 4.657130755799356, 'spinney': 4.944812828251137, 'middleton': 4.944812828251137, 'burthe': 4.944812828251137, 'colinart': 4.944812828251137, 'blindness': 4.944812828251137, 'note': 3.3353749158170367, 'reality': 15.384802158332109, 'listen': 7.927967150478821, 'presence': 3.9639835752394106, 'action': 3.645529844120876, 'chilvers': 4.944812828251137, 'eno': 4.944812828251137, 'brian': 4.944812828251137, 'crum': 4.944812828251137, 'gena': 4.944812828251137, 'peter': 8.195029935727867, 'walk': 3.9639835752394106, 'miller': 4.433987204485146, 'bur': 4.944812828251137, 'george': 4.251665647691191, 'cardiff': 4.944812828251137, 'janet': 4.944812828251137, 'engines': 4.944812828251137, 'workstation': 4.657130755799356, 'download': 4.657130755799356, 'gamers': 4.944812828251137, 'viewer': 4.097514967863933, 'listener': 4.657130755799356, 'hyperreal': 4.944812828251137, 'physic': 4.251665647691191, 'instrument': 8.867974408970293, 'navigability': 4.944812828251137, 'empower': 4.433987204485146, 'lead': 3.2102117728630306, 'engine': 14.83443848475341, 'embody': 3.740840023925201, 'sculpture': 3.404367787303988, 'intelligence': 4.657130755799356, 'factor': 4.097514967863933, 'scale': 10.936589532362628, 'device': 8.867974408970293, 'controller': 4.944812828251137, 'micro': 4.657130755799356, 'embed': 10.700555872718603, 'furniture': 4.657130755799356, 'word': 3.0476928433652555, 'jenkins': 4.944812828251137, 'henry': 4.657130755799356, 'gehl': 5.350277936359301, 'robert': 4.433987204485146, 'donath': 5.350277936359301, 'judith': 4.657130755799356, 'coleman': 4.944812828251137, 'historian': 8.867974408970293, 'harrell': 5.350277936359301, 'fox': 5.350277936359301, 'twitch': 5.350277936359301, 'youtube': 4.657130755799356, 'tumblr': 4.944812828251137, 'instagram': 5.350277936359301, 'facebook': 5.350277936359301, 'twitter': 5.350277936359301, 'key': 9.314261511598712, 'sreedharan': 5.350277936359301, 'chindu': 5.350277936359301, 'cisneros': 4.944812828251137, 'su': 5.350277936359301, 'bernie': 5.350277936359301, 'weiwei': 5.350277936359301, 'al': 5.350277936359301, 'sherman': 4.944812828251137, 'gannis': 5.350277936359301, 'carla': 4.944812828251137, 'delappe': 5.350277936359301, 'joseph': 4.251665647691191, 'kac': 5.350277936359301, 'eduardo': 5.350277936359301, 'cole': 4.944812828251137, 'jennifer': 4.657130755799356, 'writer': 3.645529844120876, 'lineage': 4.657130755799356, 'grind': 9.314261511598712, 'guest': 4.097514967863933, 'panel': 3.740840023925201, 'envision': 4.944812828251137, 'ownership': 4.944812828251137, 'censorship': 5.350277936359301, 'advertising': 4.944812828251137, 'surveillance': 9.889625656502274, 'traversal': 5.350277936359301, 'author': 13.617471149215952, 'platform': 13.91390303783084, 'culminating': 4.097514967863933, 'finish': 3.645529844120876, 'laboratory': 4.433987204485146, 'mid': 4.657130755799356, 'vary': 2.9989026791958238, 'notebook': 4.657130755799356, 'journal': 3.9639835752394106, 'peer': 3.5585184671312464, 'bioarts': 5.350277936359301, 'podcasts': 4.944812828251137, 'bioethics': 5.350277936359301, 'dive': 4.433987204485146, 'scientist': 8.195029935727867, 'utilize': 3.47847575945771, 'departure': 4.433987204485146, 'serve': 3.2102117728630306, 'biology': 9.889625656502274, 'protocol': 5.350277936359301, 'documentation': 7.291059688241752, 'blog': 4.944812828251137, 'materiality': 3.846200539583027, 'sensor': 9.314261511598712, 'fabric': 4.433987204485146, 'paint': 3.645529844120876, 'fashion': 3.2102117728630306, 'discourse': 6.306106718046164, 'emphasize': 26.682999326536294, 'orta': 5.350277936359301, 'lucy': 5.350277936359301, 'calefato': 5.350277936359301, 'patrizia': 5.350277936359301, 'berzowska': 5.350277936359301, 'joanna': 4.944812828251137, 'dialog': 4.657130755799356, 'prototyped': 5.350277936359301, 'textile': 3.740840023925201, 'exploratory': 4.944812828251137, 'pursue': 3.2102117728630306, 'appropriation': 4.944812828251137, 'subversion': 5.350277936359301, 'vehicle': 4.944812828251137, 'computing': 5.350277936359301, 'wearable': 5.350277936359301, 'follow': 3.404367787303988, 'term': 7.551193776909256, 'exemplify': 4.944812828251137, 'nauman': 5.350277936359301, 'bruce': 4.944812828251137, 'mixing': 4.433987204485146, 'implementation': 4.657130755799356, 'animation': 7.291059688241752, 'emphasis': 12.734587777263833, 'spacial': 5.350277936359301, 'assembly': 4.657130755799356, 'solution': 4.097514967863933, 'industry': 3.098986137752806, 'hardware': 4.251665647691191, 'microprocessor': 5.350277936359301, 'openframeworks': 5.350277936359301, 'advance': 13.08334557871786, 'processing': 8.195029935727867, 'code': 3.846200539583027, 'simulation': 13.971392267398068, 'game': 69.65775445368686, 'visualization': 3.740840023925201, 'stage': 21.351110802787478, 'beginner': 8.195029935727867, 'encourage': 8.242764752744753, 'address': 16.711971473386587, 'synthesis': 8.503331295382383, 'drum': 9.314261511598712, 'midi': 8.867974408970293, 'destruction': 8.503331295382383, 'looping': 9.314261511598712, 'manipulate': 7.481680047850402, 'realize': 12.754996943073575, 'track': 13.30196161345544, 'dance': 7.291059688241752, 'song': 8.503331295382383, 'soundtrack': 12.2925449035918, 'manipulation': 16.354181973397324, 'music': 41.77992868346647, 'logic': 8.195029935727867, 'apple': 9.314261511598712, 'creation': 17.192227719427805, 'repertoire': 4.433987204485146, 'expand': 3.270836394679465, 'continue': 14.582119376483504, 'enable': 3.3353749158170367, 'answer': 4.433987204485146, 'encounter': 3.740840023925201, 'computer': 17.02183893651994, 'link': 3.9639835752394106, 'degree': 3.098986137752806, 'decision': 4.433987204485146, 'switch': 4.433987204485146, 'component': 14.234073868524986, 'introduce': 24.728294258234257, 'electron': 5.350277936359301, 'door': 5.350277936359301, 'element': 6.54167278935893, 'software': 22.895854762756258, 'adobe': 3.740840023925201, 'screen': 6.808735574607976, 'deconstruct': 4.657130755799356, 'parameter': 4.251665647691191, 'lantern': 5.350277936359301, 'projection': 22.16993602242573, 'embrace': 3.846200539583027, 'augment': 7.692401079166054, 'finding': 4.657130755799356, 'conduct': 3.270836394679465, 'significance': 4.433987204485146, 'rig': 5.350277936359301, 'display': 8.503331295382383, 'vision': 3.47847575945771, 'persistence': 4.944812828251137, 'projector': 4.944812828251137, 'receiver': 5.350277936359301, 'transmitter': 5.350277936359301, 'construction': 6.197972275505612, 'jam': 4.944812828251137, 'hactivism': 5.350277936359301, 'power': 7.291059688241752, 'limit': 3.5585184671312464, 'programming': 29.76165953383834, 'electronics': 14.83443848475341, 'background': 3.740840023925201, 'voice': 3.740840023925201, 'radio': 18.628523023197424, 'theoretical': 4.433987204485146, 'thinker': 4.097514967863933, 'practitioner': 6.95695151891542, 'ready': 4.944812828251137, 'impregnate': 5.350277936359301, 'extraction': 5.350277936359301, 'distillation': 5.350277936359301, 'hydro': 5.350277936359301, 'blending': 5.350277936359301, 'equipment': 3.9639835752394106, 'lab': 3.645529844120876, 'perfume': 5.350277936359301, 'scent': 10.700555872718603, 'merge': 4.944812828251137, 'span': 7.927967150478821, 'lighting': 4.251665647691191, 'technologies': 5.350277936359301, 'demonstration': 7.481680047850402, 'exploration': 8.355985736693293, 'body': 8.133661820232128, 'produce': 19.77184504435732, 'expect': 11.995610716783295, 'exhibit': 4.251665647691191, 'addition': 19.77184504435732, 'kaufman': 5.350277936359301, 'dawson': 5.350277936359301, 'paula': 4.944812828251137, 'harman': 5.350277936359301, 'touch': 4.251665647691191, 'article': 7.481680047850402, 'montage': 5.350277936359301, 'juxtaposition': 4.657130755799356, 'hologram': 16.050833809077904, 'style': 2.9989026791958238, 'laser': 19.779251313004547, 'holography': 21.401111745437206, 'familiarize': 3.846200539583027, 'convey': 4.433987204485146, 'light': 50.00060701457935, 'introduction': 9.296958413258418, 'afternoon': 9.889625656502274, 'morning': 9.314261511598712, 'venue': 7.692401079166054, 'composition': 23.830574511127914, 'inter': 9.314261511598712, 'perception': 15.384802158332109, 'expose': 7.291059688241752, 'potential': 10.00612474745111, 'hand': 21.98070600731934, 'grounding': 8.503331295382383, 'department': 5.904765327121861, 'coursework': 6.808735574607976, 'foundation': 23.347624410719256, 'mastery': 4.944812828251137, 'demonstrate': 17.39237879728855, 'determine': 3.645529844120876, 'circuit': 16.050833809077904, 'fabrication': 4.097514967863933, 'speed': 4.433987204485146, 'motor': 16.050833809077904, 'exercise': 11.995610716783295, 'move': 6.420423545726061, 'dancer': 5.350277936359301, 'animator': 4.433987204485146, 'motion': 11.222520071775602, 'control': 11.538601618749082, 'matter': 10.936589532362628, 'll': 3.47847575945771, 'communication': 12.840847091452122, 'tone': 3.9639835752394106, 'interactivity': 13.971392267398068, 'microcontrollers': 16.050833809077904, 'robotics': 5.350277936359301, 'associate': 3.846200539583027, 'technique': 51.80000458171682, 'aesthetic': 10.43542727837313, 'ethic': 15.384802158332109, 'session': 3.740840023925201, 'performance': 8.473647876153137, 'endeavor': 9.314261511598712, 'force': 3.846200539583027, 'market': 7.291059688241752, 'sit': 12.754996943073575, 'researcher': 4.657130755799356, 'narrative': 6.670749831634073, 'scholar': 9.296958413258418, 'architecture': 2.907930900990097, 'audio': 33.66756021532681, 'intervention': 4.433987204485146, 'team': 6.95695151891542, 'review': 5.9978053583916475, 'accord': 7.291059688241752, 'energy': 4.433987204485146, 'access': 14.234073868524986, 'crisis': 4.251665647691191, 'app': 4.657130755799356, 'record': 10.43542727837313, 'politics': 3.2102117728630306, 'lecture': 16.485529505489506, 'installation': 23.619061308487446, 'mapping': 4.433987204485146, 'sound': 51.36338836580849, 'live': 3.740840023925201, 'piece': 12.190771373461022, 'video': 8.857147990682792, 'object': 16.947295752306275, 'representation': 3.153053359023082, 'screening': 3.153053359023082, 'recording': 7.692401079166054, 'movement': 5.6490985841020915, 'family': 15.855934300957642, 'gender': 6.197972275505612, 'life': 2.7475882509149177, 'bring': 3.098986137752806, 'society': 9.459160077069246, 'tool': 14.761913317804654, 'application': 13.737941254574588, 'participate': 8.473647876153137, 'twenty': 4.097514967863933, 'start': 10.43542727837313, 'leave': 3.846200539583027, 'preparation': 3.645529844120876, 'sample': 3.3353749158170367, 'day': 9.459160077069246, 'implement': 3.9639835752394106, 'cover': 14.12727397683186, 'attend': 30.639310085735893, 'connection': 3.740840023925201, 'groundwork': 4.944812828251137, 'relationship': 13.211138676285456, 'program': 30.98986137752806, 'require': 22.592354830009853, 'participation': 17.02183893651994, 'organization': 3.404367787303988, 'graduate': 2.7475882509149177, 'internship': 37.40840023925201, 'week': 8.857147990682792, 'hour': 30.01837424235333, 'site': 18.286157060191535, 'field': 22.147837204301517, 'choice': 3.270836394679465, 'supervision': 44.33987204485146, 'time': 9.730028817100088, 'instructor': 3.2102117728630306, 'fieldwork': 39.90588484036632, 'thesis': 2.8245492920510458, 'context': 10.437751649736402, 'choose': 3.098986137752806, 'orientation': 8.867974408970293, 'theme': 3.3353749158170367, 'topic': 16.659044295527202, 'sequence': 3.740840023925201, 'content': 14.539654504950486, 'ability': 9.296958413258418, 'cognitive': 4.944812828251137, 'ethnicity': 8.867974408970293, 'class': 47.56009923462764, 'reflect': 3.47847575945771, 'sense': 3.740840023925201, 'focus': 28.76217498496961, 'concept': 30.932270569434237, 'exhibition': 18.286157060191535, 'variety': 13.556103033720213, 'interaction': 23.347624410719256, 'text': 8.473647876153137, 'critique': 16.485529505489506, 'implication': 7.291059688241752, 'expression': 11.631723603960388, 'environment': 19.497300052284352, 'classroom': 3.846200539583027, 'medium': 73.03120003922189, 'technology': 32.11355144319327, 'emerge': 10.675555401393739, 'aspect': 2.7112206067440425, 'service': 34.615804856247244, 'introduces': 6.95695151891542, 'la': 4.657130755799356, 'de': 3.270836394679465, 'sandra': 4.657130755799356, 'dimension': 4.433987204485146, 'form': 22.392693498868496, 'collection': 3.0476928433652555, 'draw': 2.907930900990097, 'play': 5.904765327121861, 'artists': 7.291059688241752, 'role': 7.640752666358299, 'meaning': 3.3353749158170367, 'system': 14.99451339597912, 'create': 39.63341602885637, 'sign': 3.9639835752394106, 'shape': 9.459160077069246, 'proposal': 5.815861801980194, 'observation': 11.538601618749082, 'space': 20.05759900599911, 'model': 2.907930900990097, 'examine': 17.377792848090845, 'consumption': 4.251665647691191, 'deal': 4.251665647691191, 'inform': 9.812509184038396, 'survey': 3.47847575945771, 'production': 17.192227719427805, 'theorist': 3.47847575945771, 'century': 6.197972275505612, 'involve': 13.617471149215952, 'semester': 26.422277352570912, 'midterm': 8.195029935727867, 'literature': 3.3353749158170367, 'analysis': 2.7475882509149177, 'respond': 3.2102117728630306, 'essay': 3.270836394679465, 'theory': 14.435033743157163, 'race': 7.291059688241752, 'disability': 7.927967150478821, 'issue': 23.484941211906904, 'gain': 15.765266795115409, 'understanding': 16.947295752306275, 'investigate': 23.99122143356659, 'impact': 9.630635318589093, 'history': 10.861120530056779, 'framework': 3.098986137752806, 'historical': 9.314261511598712, 'investigation': 9.812509184038396, 'offer': 5.03412918460617, 'challenge': 2.907930900990097, 'difference': 17.735948817940585, 'development': 39.47899527376539, 'evolve': 3.5585184671312464, 'complete': 7.640752666358299, 'language': 13.380646434663863, 'document': 3.47847575945771, 'material': 9.730028817100088, 'presentation': 14.326856432856506, 'image': 14.122746460255229, 'artwork': 26.990124112762413, 'accompany': 4.251665647691191, 'write': 4.919812356926274, 'response': 6.197972275505612, 'discussion': 20.875503299472804, 'assignment': 19.497300052284352, 'possibility': 12.395944551011224, 'principle': 6.095385686730511, 'studio': 18.978544247208298, 'behavior': 7.927967150478821, 'sonia': 4.944812828251137, 'build': 18.978544247208298, 'perspective': 6.306106718046164, 'study': 15.592644437577167, 'reading': 24.728294258234257, 'storytelling': 7.117036934262493, 'source': 6.54167278935893, 'culture': 2.4058389571928607, 'art': 68.74164652550972, 'engage': 7.4642311662894985, 'activity': 6.54167278935893, 'writing': 2.907930900990097, 'literacy': 3.9639835752394106, 'edit': 6.95695151891542, 'process': 18.732905008529407, 'data': 3.5585184671312464, 'base': 35.697952061844006, 'standardize': 4.944812828251137, 'assessment': 23.783901451436464, 'standard': 24.909629269918725, 'strategy': 11.461485146285204, 'learn': 20.375340443622132, 'student': 168.13195898889637, 'participant': 3.5585184671312464, 'idea': 2.6761292869327726, 'explore': 39.906098201081996, 'practice': 42.98787048154302, 'range': 16.140288490451148, 'understand': 5.422441213488085, 'develop': 31.629296762013794, 'setting': 3.740840023925201, 'community': 2.865371286571301, 'experience': 54.79819616111611, 'learning': 22.471482410041215, 'structure': 10.84488242697617, 'skill': 53.586620154943596, 'knowledge': 10.568910941028365, 'artist': 38.07781553263361, 'teach': 10.84488242697617, 'provide': 34.055100859850306, 'method': 5.15537842823904, 'design': 15.727101384108217, 'project': 43.7851296769504, 'approach': 36.53213077407741, 'relate': 22.596394336408366}\n"
     ]
    }
   ],
   "source": [
    "# create a dictionary to store the word/key and tfidf/value\n",
    "dict_of_tokens = {i[1]:i[0] for i in vectorizer.vocabulary_.items()}\n",
    "tfidf_vectors = []\n",
    "for row in X:\n",
    "    tfidf_vectors.append({dict_of_tokens[column]:value for (column,value) in zip(row.indices,row.data)})\n",
    "\n",
    "\n",
    "#words for document 0\n",
    "print(tfidf_vectors[0])\n",
    "#words for document 1\n",
    "print(tfidf_vectors[1])"
   ]
  },
  {
   "cell_type": "markdown",
   "id": "e5277a75",
   "metadata": {},
   "source": [
    "# Select the first 10 words as keywords"
   ]
  },
  {
   "cell_type": "code",
   "execution_count": 39,
   "id": "24907c72",
   "metadata": {},
   "outputs": [],
   "source": [
    "keyword_vectors = []\n",
    "for i in range(len(tfidf_vectors)):\n",
    "    document_i = tfidf_vectors[i]\n",
    "    if len(document_i) <= 10:    #保留整个document的words\n",
    "        keyword_vectors.append(document_i) \n",
    "    else:\n",
    "        a = sorted(document_i.items(), key=lambda document_i: document_i[1], reverse=True)\n",
    "        for j in range(len(a)-1,9,-1):  #从后往前删除\n",
    "            #if a[j][1] != a[9][1]:\n",
    "                a.pop(j)\n",
    "        keyword_vectors.append(dict(a)) \n",
    "        "
   ]
  },
  {
   "cell_type": "code",
   "execution_count": 40,
   "id": "05421ae3",
   "metadata": {},
   "outputs": [
    {
     "name": "stdout",
     "output_type": "stream",
     "text": [
      "{'student': 162.33430523065857, 'teach': 113.87126548324979, 'school': 112.98197168204183, 'community': 85.96113859713903, 'standard': 85.40444321114991, 'placement': 83.82835360438841, 'learn': 76.407526663583, 'teacher': 75.3156879295488, 'artmaking': 74.5140920927897, 'project': 72.97521612825066}\n",
      "{'student': 168.13195898889637, 'medium': 73.03120003922189, 'game': 69.65775445368686, 'art': 68.74164652550972, 'experience': 54.79819616111611, 'skill': 53.586620154943596, 'technique': 51.80000458171682, 'sound': 51.36338836580849, 'light': 50.00060701457935, 'therapy': 48.77385924933661}\n"
     ]
    }
   ],
   "source": [
    "#key words for document 0\n",
    "print(keyword_vectors[0])\n",
    "\n",
    "\n",
    "#key words for document 1\n",
    "print(keyword_vectors[1])"
   ]
  },
  {
   "cell_type": "code",
   "execution_count": 30,
   "id": "e2ce60b7",
   "metadata": {},
   "outputs": [],
   "source": [
    "D = pd.DataFrame(keyword_vectors[0].keys())\n",
    "\n",
    "\n",
    "for i in range(1,len(keyword_vectors)):\n",
    "    df_b = pd.DataFrame(keyword_vectors[i].keys())\n",
    "    D = pd.concat([D.reset_index(drop=True), df_b], axis=1)\n"
   ]
  },
  {
   "cell_type": "code",
   "execution_count": 31,
   "id": "0f1c30b7",
   "metadata": {},
   "outputs": [],
   "source": [
    "D = D.T\n",
    "D.to_excel(\"keywords_program(2).xlsx\", header=True, index=True, engine='openpyxl')"
   ]
  },
  {
   "cell_type": "markdown",
   "id": "ecc6312b",
   "metadata": {},
   "source": [
    "# Topic finding using LDA"
   ]
  },
  {
   "cell_type": "code",
   "execution_count": 44,
   "id": "0a2a5f46",
   "metadata": {},
   "outputs": [],
   "source": [
    "from gensim import corpora, models"
   ]
  },
  {
   "cell_type": "code",
   "execution_count": 45,
   "id": "bb121ecf",
   "metadata": {},
   "outputs": [],
   "source": [
    "# list_of_list_of_tokens = [[\"a\",\"b\",\"c\"], [\"d\",\"e\",\"f\"]]\n",
    "# [\"a\",\"b\",\"c\"] are the tokens of document 1, [\"d\",\"e\",\"f\"] are the tokens of document 2...\n",
    "content = df['program']\n",
    "list_of_list_of_tokens = []\n",
    "for i in range(len(content)):\n",
    "    a = content[i]\n",
    "    a = a.replace(\",\",\" \")\n",
    "    a = a.replace(\"'\",\"\")\n",
    "    a = a.replace(\"[\",\"\")\n",
    "    a = a.replace(\"]\",\"\")\n",
    "    list_of_list_of_tokens.append(a.split(\" \"))"
   ]
  },
  {
   "cell_type": "code",
   "execution_count": 46,
   "id": "0401cdb3",
   "metadata": {},
   "outputs": [],
   "source": [
    "dictionary_LDA = corpora.Dictionary(list_of_list_of_tokens)\n",
    "dictionary_LDA.filter_extremes(no_below=3)\n",
    "corpus = [dictionary_LDA.doc2bow(list_of_tokens) for list_of_tokens in list_of_list_of_tokens]\n",
    "\n",
    "num_topics = 2 #can change this number of topic\n",
    "lda_model = models.LdaModel(corpus, num_topics=num_topics, \n",
    "                            id2word=dictionary_LDA,                                   \n",
    "                            passes=4, alpha=[0.01]*num_topics,\n",
    "                            eta=[0.01]*len(dictionary_LDA.keys()))"
   ]
  },
  {
   "cell_type": "code",
   "execution_count": 47,
   "id": "916f3be4",
   "metadata": {},
   "outputs": [
    {
     "name": "stdout",
     "output_type": "stream",
     "text": [
      "0: 0.232*\"Art\" + 0.184*\"and\" + 0.090*\"-\" + 0.038*\"(Hons)\" + 0.032*\"History\" + 0.025*\"the\" + 0.023*\"MSc\" + 0.022*\"MA\" + 0.021*\"Technology\" + 0.021*\"Architecture\" + 0.020*\"BA\" + 0.019*\"Contemporary\" + 0.018*\"Studies\" + 0.016*\"Photography\" + 0.016*\"Culture\" + 0.016*\"Practice\" + 0.016*\"Landscape\" + 0.016*\"PhD\" + 0.016*\"Fashion\" + 0.016*\"Education\" + 0.016*\"Cultural\" + 0.015*\"by\" + 0.015*\"Visual\" + 0.014*\"in\" + 0.014*\"Music\" + 0.011*\"of\" + 0.011*\"Fine\" + 0.006*\"Masters\" + 0.006*\"Film\" + 0.006*\"Media\"\n",
      "\n",
      "1: 0.129*\"-\" + 0.086*\"Design\" + 0.081*\"in\" + 0.059*\"Arts\" + 0.049*\"(Hons)\" + 0.047*\"and\" + 0.046*\"BA\" + 0.045*\"of\" + 0.038*\"MSc\" + 0.038*\"MPhil\" + 0.030*\"Digital\" + 0.030*\"Bachelor\" + 0.029*\"Media\" + 0.029*\"Film\" + 0.025*\"Architectural\" + 0.024*\"MA\" + 0.024*\"&\" + 0.023*\"Studies\" + 0.020*\"\" + 0.019*\"MPhil-PhD\" + 0.015*\"History\" + 0.015*\"Interior\" + 0.015*\"Fine\" + 0.015*\"Sound\" + 0.012*\"Music\" + 0.010*\"Distance\" + 0.010*\"Education\" + 0.010*\"Performance\" + 0.009*\"Masters\" + 0.006*\"Architecture\"\n",
      "\n"
     ]
    }
   ],
   "source": [
    "#print topic found:\n",
    "for i,topic in lda_model.show_topics(formatted=True, num_topics=num_topics, num_words=30):\n",
    "    print(str(i)+\": \"+ topic)\n",
    "    print()"
   ]
  },
  {
   "cell_type": "code",
   "execution_count": 48,
   "id": "211e6fa2",
   "metadata": {},
   "outputs": [
    {
     "data": {
      "text/plain": [
       "[(1, 0.99751234)]"
      ]
     },
     "execution_count": 48,
     "metadata": {},
     "output_type": "execute_result"
    }
   ],
   "source": [
    "#To print the % of topics a document is about, do the following:\n",
    "#(14, 0.9983065953654187)means the first document is 99.8% about topic 14.\n",
    "\n",
    "lda_model[corpus[0]] # corpus[0] means the first document."
   ]
  },
  {
   "cell_type": "code",
   "execution_count": null,
   "id": "8defeb13",
   "metadata": {},
   "outputs": [],
   "source": []
  },
  {
   "cell_type": "code",
   "execution_count": null,
   "id": "6abfb80c",
   "metadata": {},
   "outputs": [],
   "source": []
  },
  {
   "cell_type": "code",
   "execution_count": null,
   "id": "5965f1ef",
   "metadata": {},
   "outputs": [],
   "source": []
  },
  {
   "cell_type": "code",
   "execution_count": null,
   "id": "5920ec41",
   "metadata": {},
   "outputs": [],
   "source": []
  },
  {
   "cell_type": "markdown",
   "id": "ae006df1",
   "metadata": {},
   "source": [
    "# Repeat the process for job dataset version 2"
   ]
  },
  {
   "cell_type": "code",
   "execution_count": 3,
   "id": "707d2d52",
   "metadata": {},
   "outputs": [
    {
     "data": {
      "text/html": [
       "<div>\n",
       "<style scoped>\n",
       "    .dataframe tbody tr th:only-of-type {\n",
       "        vertical-align: middle;\n",
       "    }\n",
       "\n",
       "    .dataframe tbody tr th {\n",
       "        vertical-align: top;\n",
       "    }\n",
       "\n",
       "    .dataframe thead th {\n",
       "        text-align: right;\n",
       "    }\n",
       "</style>\n",
       "<table border=\"1\" class=\"dataframe\">\n",
       "  <thead>\n",
       "    <tr style=\"text-align: right;\">\n",
       "      <th></th>\n",
       "      <th>Schoole</th>\n",
       "      <th>program</th>\n",
       "      <th>description</th>\n",
       "    </tr>\n",
       "  </thead>\n",
       "  <tbody>\n",
       "    <tr>\n",
       "      <th>0</th>\n",
       "      <td>SAIC</td>\n",
       "      <td>Architecture, Interior Arch, Designed Objects</td>\n",
       "      <td>['relate', 'artmaking', 'approach', 'pedagogy'...</td>\n",
       "    </tr>\n",
       "    <tr>\n",
       "      <th>1</th>\n",
       "      <td>SAIC</td>\n",
       "      <td>Art and Technology</td>\n",
       "      <td>['medium', 'introduces', 'graduate', 'student'...</td>\n",
       "    </tr>\n",
       "    <tr>\n",
       "      <th>2</th>\n",
       "      <td>SAIC</td>\n",
       "      <td>Art Education</td>\n",
       "      <td>['student', 'deepen', 'approach', 'fashion', '...</td>\n",
       "    </tr>\n",
       "    <tr>\n",
       "      <th>3</th>\n",
       "      <td>SAIC</td>\n",
       "      <td>Art History</td>\n",
       "      <td>['discussion', 'examine', 'documentation', 'an...</td>\n",
       "    </tr>\n",
       "    <tr>\n",
       "      <th>4</th>\n",
       "      <td>SAIC</td>\n",
       "      <td>Art Therapy</td>\n",
       "      <td>['consultation', 'study', 'student', 'spend', ...</td>\n",
       "    </tr>\n",
       "    <tr>\n",
       "      <th>...</th>\n",
       "      <td>...</td>\n",
       "      <td>...</td>\n",
       "      <td>...</td>\n",
       "    </tr>\n",
       "    <tr>\n",
       "      <th>149</th>\n",
       "      <td>Edinburgh</td>\n",
       "      <td>Professional Experience Support: UK Part 3 (AR...</td>\n",
       "      <td>['arb', 'riba', 'title', 'examination', 'pract...</td>\n",
       "    </tr>\n",
       "    <tr>\n",
       "      <th>150</th>\n",
       "      <td>Edinburgh</td>\n",
       "      <td>Sound Design - MSc</td>\n",
       "      <td>['study', 'msc', 'design', 'expand', 'apprecia...</td>\n",
       "    </tr>\n",
       "    <tr>\n",
       "      <th>151</th>\n",
       "      <td>Edinburgh</td>\n",
       "      <td>Textiles - BA (Hons)</td>\n",
       "      <td>['texture', 'form', 'department', 'continue', ...</td>\n",
       "    </tr>\n",
       "    <tr>\n",
       "      <th>152</th>\n",
       "      <td>Edinburgh</td>\n",
       "      <td>Updates in Architectural Management course</td>\n",
       "      <td>['aim', 'candidate', 'arb', 'riba', 'examinati...</td>\n",
       "    </tr>\n",
       "    <tr>\n",
       "      <th>153</th>\n",
       "      <td>Edinburgh</td>\n",
       "      <td>Urban Strategies and Design - MSc</td>\n",
       "      <td>['study', 'msc', 'strategy', 'design', 'eca', ...</td>\n",
       "    </tr>\n",
       "  </tbody>\n",
       "</table>\n",
       "<p>154 rows × 3 columns</p>\n",
       "</div>"
      ],
      "text/plain": [
       "       Schoole                                            program  \\\n",
       "0         SAIC      Architecture, Interior Arch, Designed Objects   \n",
       "1         SAIC                                 Art and Technology   \n",
       "2         SAIC                                      Art Education   \n",
       "3         SAIC                                        Art History   \n",
       "4         SAIC                                        Art Therapy   \n",
       "..         ...                                                ...   \n",
       "149  Edinburgh  Professional Experience Support: UK Part 3 (AR...   \n",
       "150  Edinburgh                                 Sound Design - MSc   \n",
       "151  Edinburgh                               Textiles - BA (Hons)   \n",
       "152  Edinburgh         Updates in Architectural Management course   \n",
       "153  Edinburgh                  Urban Strategies and Design - MSc   \n",
       "\n",
       "                                           description  \n",
       "0    ['relate', 'artmaking', 'approach', 'pedagogy'...  \n",
       "1    ['medium', 'introduces', 'graduate', 'student'...  \n",
       "2    ['student', 'deepen', 'approach', 'fashion', '...  \n",
       "3    ['discussion', 'examine', 'documentation', 'an...  \n",
       "4    ['consultation', 'study', 'student', 'spend', ...  \n",
       "..                                                 ...  \n",
       "149  ['arb', 'riba', 'title', 'examination', 'pract...  \n",
       "150  ['study', 'msc', 'design', 'expand', 'apprecia...  \n",
       "151  ['texture', 'form', 'department', 'continue', ...  \n",
       "152  ['aim', 'candidate', 'arb', 'riba', 'examinati...  \n",
       "153  ['study', 'msc', 'strategy', 'design', 'eca', ...  \n",
       "\n",
       "[154 rows x 3 columns]"
      ]
     },
     "execution_count": 3,
     "metadata": {},
     "output_type": "execute_result"
    }
   ],
   "source": [
    "#sentences = data[\"description\"]\n",
    "df2 = pd.read_csv(\"D:/assignment/7102/program data_pre(ver2).csv\")\n",
    "df2"
   ]
  },
  {
   "cell_type": "code",
   "execution_count": 4,
   "id": "a98546e8",
   "metadata": {},
   "outputs": [],
   "source": [
    "content2 = df2['description']\n",
    "sentences2 = []\n",
    "for i in range(len(content2)):\n",
    "    a = content2[i]\n",
    "    a = a.replace(\",\",\" \")\n",
    "    a = a.replace(\"'\",\"\")\n",
    "    a = a.replace(\"[\",\"\")\n",
    "    a = a.replace(\"]\",\"\")\n",
    "    sentences2.append(a)\n",
    "#sentences"
   ]
  },
  {
   "cell_type": "code",
   "execution_count": 5,
   "id": "39c9aa76",
   "metadata": {},
   "outputs": [],
   "source": [
    "vectorizer2 = TfidfVectorizer(norm = None)\n",
    "X2 = vectorizer2.fit_transform(sentences2)"
   ]
  },
  {
   "cell_type": "code",
   "execution_count": 6,
   "id": "f592cfa1",
   "metadata": {},
   "outputs": [
    {
     "name": "stdout",
     "output_type": "stream",
     "text": [
      "(154, 4882)\n"
     ]
    },
    {
     "name": "stderr",
     "output_type": "stream",
     "text": [
      "e:\\anaconda\\lib\\site-packages\\sklearn\\utils\\deprecation.py:87: FutureWarning: Function get_feature_names is deprecated; get_feature_names is deprecated in 1.0 and will be removed in 1.2. Please use get_feature_names_out instead.\n",
      "  warnings.warn(msg, category=FutureWarning)\n"
     ]
    },
    {
     "data": {
      "text/html": [
       "<div>\n",
       "<style scoped>\n",
       "    .dataframe tbody tr th:only-of-type {\n",
       "        vertical-align: middle;\n",
       "    }\n",
       "\n",
       "    .dataframe tbody tr th {\n",
       "        vertical-align: top;\n",
       "    }\n",
       "\n",
       "    .dataframe thead th {\n",
       "        text-align: right;\n",
       "    }\n",
       "</style>\n",
       "<table border=\"1\" class=\"dataframe\">\n",
       "  <thead>\n",
       "    <tr style=\"text-align: right;\">\n",
       "      <th></th>\n",
       "      <th>word</th>\n",
       "      <th>tfidf</th>\n",
       "    </tr>\n",
       "  </thead>\n",
       "  <tbody>\n",
       "    <tr>\n",
       "      <th>4306</th>\n",
       "      <td>student</td>\n",
       "      <td>3698.903098</td>\n",
       "    </tr>\n",
       "    <tr>\n",
       "      <th>782</th>\n",
       "      <td>class</td>\n",
       "      <td>1775.577038</td>\n",
       "    </tr>\n",
       "    <tr>\n",
       "      <th>3517</th>\n",
       "      <td>project</td>\n",
       "      <td>1588.427204</td>\n",
       "    </tr>\n",
       "    <tr>\n",
       "      <th>1189</th>\n",
       "      <td>design</td>\n",
       "      <td>1232.611571</td>\n",
       "    </tr>\n",
       "    <tr>\n",
       "      <th>4309</th>\n",
       "      <td>studio</td>\n",
       "      <td>1046.531154</td>\n",
       "    </tr>\n",
       "    <tr>\n",
       "      <th>...</th>\n",
       "      <td>...</td>\n",
       "      <td>...</td>\n",
       "    </tr>\n",
       "    <tr>\n",
       "      <th>2331</th>\n",
       "      <td>invest</td>\n",
       "      <td>5.350278</td>\n",
       "    </tr>\n",
       "    <tr>\n",
       "      <th>2334</th>\n",
       "      <td>invitation</td>\n",
       "      <td>5.350278</td>\n",
       "    </tr>\n",
       "    <tr>\n",
       "      <th>2338</th>\n",
       "      <td>ip</td>\n",
       "      <td>5.350278</td>\n",
       "    </tr>\n",
       "    <tr>\n",
       "      <th>2339</th>\n",
       "      <td>iplayers</td>\n",
       "      <td>5.350278</td>\n",
       "    </tr>\n",
       "    <tr>\n",
       "      <th>4881</th>\n",
       "      <td>zora</td>\n",
       "      <td>5.350278</td>\n",
       "    </tr>\n",
       "  </tbody>\n",
       "</table>\n",
       "<p>4882 rows × 2 columns</p>\n",
       "</div>"
      ],
      "text/plain": [
       "            word        tfidf\n",
       "4306     student  3698.903098\n",
       "782        class  1775.577038\n",
       "3517     project  1588.427204\n",
       "1189      design  1232.611571\n",
       "4309      studio  1046.531154\n",
       "...          ...          ...\n",
       "2331      invest     5.350278\n",
       "2334  invitation     5.350278\n",
       "2338          ip     5.350278\n",
       "2339    iplayers     5.350278\n",
       "4881        zora     5.350278\n",
       "\n",
       "[4882 rows x 2 columns]"
      ]
     },
     "execution_count": 6,
     "metadata": {},
     "output_type": "execute_result"
    }
   ],
   "source": [
    "print(X2.shape)\n",
    "word2 = {\"word\":vectorizer2.get_feature_names(), 'tfidf':X2.toarray().sum(axis=0).tolist()}\n",
    "word2 = pd.DataFrame(word2)\n",
    "word2.sort_values(by='tfidf',ascending = False)"
   ]
  },
  {
   "cell_type": "code",
   "execution_count": 7,
   "id": "e366a5e1",
   "metadata": {},
   "outputs": [
    {
     "name": "stdout",
     "output_type": "stream",
     "text": [
      "{'con': 4.944812828251137, 'aesthetic': 3.47847575945771, 'ethic': 3.846200539583027, 'discus': 4.433987204485146, 'session': 3.740840023925201, 'performance': 2.8245492920510458, 'endeavor': 4.657130755799356, 'collaborate': 4.433987204485146, 'methodology': 3.0476928433652555, 'transformation': 4.433987204485146, 'force': 3.846200539583027, 'identity': 3.2102117728630306, 'reimaging': 5.350277936359301, 'recombine': 5.350277936359301, 'hartman': 4.944812828251137, 'appadurai': 4.944812828251137, 'arjun': 4.944812828251137, 'oz': 4.944812828251137, 'mu': 4.944812828251137, 'vizenor': 4.944812828251137, 'gerald': 4.944812828251137, 'campt': 4.944812828251137, 'tina': 4.944812828251137, 'russell': 4.944812828251137, 'hall': 4.944812828251137, 'stuart': 4.433987204485146, 'audra': 4.944812828251137, 'tuck': 4.657130755799356, 'market': 3.645529844120876, 'flea': 4.944812828251137, 'informal': 4.657130755799356, 'harold': 4.944812828251137, 'harsch': 4.944812828251137, 'ayers': 4.944812828251137, 'glbtq': 4.944812828251137, 'hardt': 4.944812828251137, 'gerber': 4.944812828251137, 'sit': 4.251665647691191, 'researcher': 4.657130755799356, 'archivist': 4.944812828251137, 'library': 8.195029935727867, 'trip': 3.0476928433652555, 'narrative': 6.670749831634073, 'counter': 9.889625656502274, 'archive': 10.675555401393739, 'memory': 7.692401079166054, 'remixing': 9.889625656502274, 'future': 3.404367787303988, 'destabilize': 4.944812828251137, 'scholar': 3.098986137752806, 'haunt': 4.433987204485146, 'superfutures': 4.944812828251137, 'lock': 4.944812828251137, 'damon': 4.944812828251137, 'esparza': 4.944812828251137, 'rafa': 4.944812828251137, 'architecture': 2.907930900990097, 'tirza': 4.944812828251137, 'hopinka': 4.657130755799356, 'sky': 4.657130755799356, 'decolonizethisplace': 4.657130755799356, 'audio': 3.740840023925201, 'empire': 4.944812828251137, 'resist': 4.433987204485146, 'cultural': 4.433987204485146, 'activation': 5.350277936359301, 'green': 5.350277936359301, 'riverbank': 5.350277936359301, 'intervention': 4.433987204485146, 'team': 3.47847575945771, 'review': 5.9978053583916475, 'varies': 5.350277936359301, 'ordinance': 4.944812828251137, 'eu': 5.350277936359301, 'website': 3.740840023925201, 'activist': 8.195029935727867, 'innovator': 4.657130755799356, 'accord': 3.645529844120876, 'stockholm': 5.350277936359301, 'energy': 4.433987204485146, 'food': 4.657130755799356, 'oxfam': 5.350277936359301, 'health': 3.645529844120876, 'muir': 5.350277936359301, 'carson': 5.350277936359301, 'leopold': 4.944812828251137, 'initiator': 5.350277936359301, 'bibliography': 3.9639835752394106, 'access': 3.5585184671312464, 'awareness': 3.645529844120876, 'activate': 4.657130755799356, 'interactives': 5.350277936359301, 'ar': 5.350277936359301, 'generate': 3.3353749158170367, 'floating': 5.350277936359301, 'crisis': 4.251665647691191, 'freshwater': 5.350277936359301, 'riverwalking': 5.350277936359301, 'kayak': 5.350277936359301, 'app': 4.657130755799356, 'hush': 5.350277936359301, 'quiet': 5.350277936359301, 'record': 3.47847575945771, 'island': 9.889625656502274, 'bike': 5.350277936359301, 'autopsy': 5.350277936359301, 'outdoors': 5.350277936359301, 'policy': 4.097514967863933, 'politics': 3.2102117728630306, 'water': 13.971392267398068, 'waterways': 5.350277936359301, 'lecture': 8.242764752744753, 'installation': 8.857147990682792, 'workshops': 4.433987204485146, 'soundwalks': 10.700555872718603, 'map': 15.855934300957642, 'deploy': 4.657130755799356, 'coexistence': 5.350277936359301, 'biodiversity': 4.944812828251137, 'imagine': 8.195029935727867, 'mapping': 4.433987204485146, 'sound': 6.420423545726061, 'transient': 5.350277936359301, 'riverworks': 5.350277936359301, 'chicago': 10.00612474745111, 'eco': 9.889625656502274, 'generationliberation': 4.657130755799356, 'feature': 4.097514967863933, 'folk': 4.097514967863933, 'live': 3.740840023925201, 'story': 3.3353749158170367, 'piece': 3.0476928433652555, 'reflective': 4.657130755799356, 'zine': 4.433987204485146, 'comic': 3.846200539583027, 'video': 2.9523826635609307, 'object': 8.473647876153137, 'representation': 3.153053359023082, 'screening': 3.153053359023082, 'recording': 3.846200539583027, 'movement': 2.8245492920510458, 'ageism': 4.944812828251137, 'age': 3.645529844120876, 'family': 3.9639835752394106, 'spirituality': 4.433987204485146, 'sex': 4.433987204485146, 'gender': 3.098986137752806, 'life': 8.242764752744753, 'generation': 4.657130755799356, 'queer': 7.927967150478821, 'elder': 9.314261511598712, 'lgbtq': 9.314261511598712, 'bring': 6.197972275505612, 'hold': 3.153053359023082, 'partnership': 8.867974408970293, 'ongoing': 4.657130755799356, 'society': 3.153053359023082, 'citizen': 4.657130755799356, 'tool': 2.9523826635609307, 'motivation': 4.657130755799356, 'application': 5.495176501829835, 'tie': 4.944812828251137, 'strengthen': 4.657130755799356, 'establish': 3.404367787303988, 'visit': 15.466135284717119, 'participate': 2.8245492920510458, 'innovation': 3.645529844120876, 'goal': 5.815861801980194, 'achieve': 3.645529844120876, 'alliance': 5.350277936359301, 'resource': 3.404367787303988, 'twenty': 4.097514967863933, 'start': 3.47847575945771, 'citizenship': 4.944812828251137, 'raise': 8.503331295382383, 'hop': 4.944812828251137, 'leave': 3.846200539583027, 'street': 4.433987204485146, 'cross': 4.251665647691191, 'preparation': 10.936589532362628, 'sample': 10.00612474745111, 'exemplars': 16.050833809077904, 'evening': 13.971392267398068, 'respective': 16.050833809077904, 'saic': 20.87085455674626, 'day': 18.91832015413849, 'implement': 11.891950725718232, 'encompass': 13.971392267398068, 'isbe': 16.050833809077904, 'board': 13.30196161345544, 'illinois': 16.050833809077904, 'define': 10.936589532362628, 'mandate': 16.050833809077904, 'cover': 7.06363698841593, 'attend': 20.426206723823928, 'placement': 83.82835360438841, 'apprentice': 48.152501427233716, 'continuity': 13.971392267398068, 'connection': 11.222520071775602, 'groundwork': 14.83443848475341, 'management': 10.43542727837313, 'guide': 10.675555401393739, 'staff': 13.971392267398068, 'relationship': 7.926683205771274, 'evaluate': 15.384802158332109, 'observe': 15.855934300957642, 'director': 3.846200539583027, 'register': 3.740840023925201, 'permission': 4.433987204485146, 'program': 12.395944551011224, 'call': 3.9639835752394106, 'average': 4.944812828251137, 'total': 3.9639835752394106, 'require': 2.2592354830009853, 'participation': 6.808735574607976, 'adviser': 4.944812828251137, 'faculty': 2.9989026791958238, 'assign': 12.395944551011224, 'organization': 13.617471149215952, 'position': 3.645529844120876, 'capx': 17.735948817940585, 'graduate': 5.495176501829835, 'internship': 11.222520071775602, 'career': 6.197972275505612, 'sectione02': 4.944812828251137, 'credit': 3.3353749158170367, 'week': 29.523826635609307, 'hour': 16.676874579085183, 'spend': 17.39237879728855, 'supervisor': 3.846200539583027, 'site': 30.476928433652553, 'field': 4.429567440860303, 'choice': 6.54167278935893, 'relating': 4.944812828251137, 'dialogue': 10.936589532362628, 'supervision': 4.433987204485146, 'time': 19.460057634200176, 'agree': 9.889625656502274, 'instructor': 6.420423545726061, 'fieldwork': 17.735948817940585, 'thesis': 2.8245492920510458, 'sectione01': 5.350277936359301, 'context': 5.218875824868201, 'verbal': 10.700555872718603, 'affect': 7.481680047850402, 'choose': 6.197972275505612, 'orientation': 8.867974408970293, 'theme': 16.676874579085183, 'topic': 9.519453883158402, 'sequence': 7.481680047850402, 'content': 5.815861801980194, 'sharing': 21.401111745437206, 'frame': 14.963360095700803, 'contextsaesthetics': 10.700555872718603, 'interrogate': 7.927967150478821, 'diversity': 21.351110802787478, 'ability': 12.395944551011224, 'cognitive': 19.779251313004547, 'sexuality': 18.628523023197424, 'geography': 21.401111745437206, 'ethnicity': 17.735948817940585, 'class': 23.78004961731382, 'influence': 13.341499663268147, 'reflect': 17.39237879728855, 'worker': 18.628523023197424, 'agency': 8.867974408970293, 'purpose': 7.291059688241752, 'sense': 11.222520071775602, 'focus': 4.1088821407099445, 'museums': 4.944812828251137, 'comment': 4.944812828251137, 'collaboration': 6.420423545726061, 'reach': 4.944812828251137, 'effort': 4.251665647691191, 'concept': 7.733067642358559, 'exhibition': 6.095385686730511, 'evaluation': 4.251665647691191, 'audience': 6.808735574607976, 'examines': 4.944812828251137, 'integrate': 15.49493068876403, 'lesson': 4.657130755799356, 'variety': 2.7112206067440425, 'incorporate': 3.404367787303988, 'construct': 3.404367787303988, 'interaction': 3.3353749158170367, 'mediate': 3.9639835752394106, 'text': 2.8245492920510458, 'critique': 16.485529505489506, 'explores': 5.350277936359301, 'implication': 3.645529844120876, 'change': 6.306106718046164, 'nature': 3.5585184671312464, 'expression': 2.907930900990097, 'outlet': 5.350277936359301, 'environment': 8.355985736693293, 'classroom': 23.077203237498164, 'medium': 25.104475013482524, 'technology': 26.761292869327725, 'emerge': 24.909629269918725, 'aspect': 2.7112206067440425, 'service': 3.846200539583027, 'introduces': 3.47847575945771, 'cyberpedagogy': 5.350277936359301, 'wilson': 4.251665647691191, 'fred': 5.350277936359301, 'luna': 5.350277936359301, 'james': 4.097514967863933, 'carlson': 5.350277936359301, 'andrea': 4.433987204485146, 'bell': 4.433987204485146, 'alexandra': 4.944812828251137, 'loza': 5.350277936359301, 'la': 4.657130755799356, 'de': 3.270836394679465, 'sandra': 4.657130755799356, 'land': 4.657130755799356, 'center': 17.02183893651994, 'mogel': 5.350277936359301, 'dimension': 4.433987204485146, 'form': 12.440385277149165, 'collection': 21.33384990355679, 'criticism': 3.740840023925201, 'draw': 2.907930900990097, 'reproducing': 5.350277936359301, 'play': 2.9523826635609307, 'artists': 10.936589532362628, 'role': 10.187670221811066, 'meaning': 6.670749831634073, 'system': 2.9989026791958238, 'celebrate': 4.944812828251137, 'omit': 5.350277936359301, 'park': 3.9639835752394106, 'neighborhood': 4.657130755799356, 'memorial': 5.350277936359301, 'create': 18.49559414679964, 'city': 14.234073868524986, 'sign': 7.927967150478821, 'wayfinding': 5.350277936359301, 'shape': 3.153053359023082, 'label': 4.944812828251137, 'museum': 30.01837424235333, 'proposal': 5.815861801980194, 'observation': 19.231002697915137, 'interview': 3.153053359023082, 'space': 14.326856432856506, 'organize': 3.740840023925201, 'grassroots': 4.944812828251137, 'activism': 11.891950725718232, 'model': 5.815861801980194, 'public': 9.889625656502274, 'conceptualization': 4.944812828251137, 'implicit': 5.350277936359301, 'examine': 4.344448212022711, 'consumption': 4.251665647691191, 'deal': 4.251665647691191, 'inform': 3.270836394679465, 'premise': 4.251665647691191, 'institution': 17.79259233565623, 'relation': 6.54167278935893, 'concern': 3.0476928433652555, 'survey': 3.47847575945771, 'intend': 3.9639835752394106, 'production': 20.05759900599911, 'consequence': 4.433987204485146, 'theorist': 6.95695151891542, 'century': 6.197972275505612, 'involve': 3.404367787303988, 'seminar': 43.37952970790468, 'semester': 15.853366411542549, 'midterm': 12.2925449035918, 'film': 13.926642894488824, 'represent': 10.936589532362628, 'adolescence': 16.050833809077904, 'interpretation': 20.87085455674626, 'literature': 10.00612474745111, 'illustrate': 12.2925449035918, 'analysis': 13.737941254574588, 'respond': 9.630635318589093, 'question': 14.761913317804654, 'essay': 19.62501836807679, 'theory': 16.840872700350026, 'race': 29.16423875296701, 'disability': 11.891950725718232, 'piaget': 16.050833809077904, 'erik': 16.050833809077904, 'lange': 16.050833809077904, 'vassallo': 16.050833809077904, 'stephen': 14.83443848475341, 'britzman': 16.050833809077904, 'deborah': 13.971392267398068, 'mayo': 16.050833809077904, 'cris': 16.050833809077904, 'shakespeare': 14.83443848475341, 'tom': 13.971392267398068, 'dubois': 16.050833809077904, 'dewey': 14.83443848475341, 'john': 14.234073868524986, 'issue': 28.703817036775106, 'gain': 15.765266795115409, 'formation': 16.050833809077904, 'subject': 10.675555401393739, 'understanding': 14.122746460255229, 'investigate': 14.99451339597912, 'impact': 19.261270637178185, 'childhood': 27.942784534796136, 'history': 30.411137484158978, 'framework': 15.49493068876403, 'historical': 13.971392267398068, 'conception': 49.44812828251137, 'investigation': 9.812509184038396, 'offer': 10.06825836921234, 'challenge': 11.631723603960388, 'opportunity': 21.98070600731934, 'difference': 13.30196161345544, 'human': 18.628523023197424, 'adult': 16.050833809077904, 'adolescent': 21.401111745437206, 'implicate': 16.050833809077904, 'development': 37.2857177585562, 'evolve': 32.02666620418122, 'comprehend': 16.050833809077904, 'educator': 21.401111745437206, 'check': 13.971392267398068, 'pass': 10.936589532362628, 'complete': 15.281505332716598, 'learner': 13.971392267398068, 'language': 8.028387860798318, 'document': 20.87085455674626, 'material': 21.8925648384752, 'presentation': 11.461485146285204, 'image': 8.473647876153137, 'artwork': 17.99341607517494, 'accompany': 12.754996943073575, 'write': 9.839624713852547, 'response': 12.395944551011224, 'discussion': 18.266065387038704, 'assignment': 13.926642894488824, 'possibility': 12.395944551011224, 'principle': 9.143078530095767, 'thinking': 10.675555401393739, 'habit': 13.971392267398068, 'studio': 10.84488242697617, 'behavior': 11.891950725718232, 'justice': 11.222520071775602, 'emelia': 16.050833809077904, 'reggio': 16.050833809077904, 'overview': 22.445040143551203, 'nieto': 16.050833809077904, 'sonia': 14.83443848475341, 'paley': 16.050833809077904, 'lisa': 14.83443848475341, 'thulson': 16.050833809077904, 'anne': 16.050833809077904, 'viktor': 14.83443848475341, 'montessori': 32.10166761815581, 'maria': 27.942784534796136, 'build': 27.112206067440425, 'perspective': 28.377480231207738, 'candidate': 59.853440382803214, 'education': 59.13408791078107, 'study': 19.49080554697146, 'support': 13.737941254574588, 'reading': 52.20417676738344, 'level': 11.141314315591059, 'storytelling': 10.675555401393739, 'inspiration': 12.2925449035918, 'source': 9.812509184038396, 'book': 11.631723603960388, 'picture': 13.30196161345544, 'culture': 38.49342331508577, 'analyze': 27.234942298431903, 'art': 63.83152891654474, 'interpret': 28.46814773704997, 'engage': 19.904616443438663, 'activity': 13.08334557871786, 'speaking': 12.754996943073575, 'writing': 8.723792702970291, 'read': 31.51908415228431, 'literacy': 31.711868601915285, 'connect': 11.891950725718232, 'redesign': 16.050833809077904, 'edit': 10.43542727837313, 'process': 16.056775721596637, 'data': 14.234073868524986, 'input': 13.30196161345544, 'base': 35.697952061844006, 'reflection': 11.891950725718232, 'artworks': 16.050833809077904, 'standardize': 14.83443848475341, 'capture': 12.2925449035918, 'assessment': 35.675852177154695, 'standard': 85.40444321114991, 'select': 18.593916826516836, 'objective': 11.891950725718232, 'core': 8.99670803758747, 'articulate': 11.538601618749082, 'meet': 14.99451339597912, 'instruction': 13.341499663268147, 'differentiate': 16.050833809077904, 'engagement': 20.87085455674626, 'promote': 11.891950725718232, 'strategy': 31.51908415228431, 'learn': 76.407526663583, 'teaching': 72.27831601075026, 'scaffold': 14.83443848475341, 'student': 162.33430523065857, 'identify': 11.891950725718232, 'plan': 40.97514967863933, 'participant': 32.02666620418122, 'idea': 10.70451714773109, 'explore': 41.80638859160971, 'practice': 41.11883263451941, 'range': 20.751799487722906, 'understand': 18.978544247208298, 'develop': 42.92547417701872, 'creativity': 21.258328238455956, 'enhance': 12.2925449035918, 'setting': 41.14924026317721, 'community': 85.96113859713903, 'school': 112.98197168204183, 'youth': 16.050833809077904, 'child': 38.462005395830275, 'experience': 31.313254949209206, 'learning': 28.891905955767275, 'structure': 21.68976485395234, 'skill': 13.979118301289633, 'knowledge': 34.348960558342185, 'artist': 52.35699635737121, 'teach': 113.87126548324979, 'teacher': 75.3156879295488, 'provide': 43.7851296769504, 'method': 25.776892141195198, 'design': 29.488315095202907, 'project': 72.97521612825066, 'curriculum': 57.8742523841678, 'pedagogy': 37.25704604639485, 'approach': 41.75100659894561, 'artmaking': 74.5140920927897, 'relate': 11.298197168204183}\n",
      "{'intern': 4.657130755799356, 'therapist': 13.971392267398068, 'ii': 11.891950725718232, 'acquire': 11.222520071775602, 'depth': 6.808735574607976, 'maatc': 21.401111745437206, 'culminate': 6.95695151891542, 'feminist': 9.889625656502274, 'perspectives': 9.889625656502274, 'parenting': 10.700555872718603, 'parent': 10.700555872718603, 'definition': 7.927967150478821, 'initiate': 3.9639835752394106, 'relative': 4.944812828251137, 'scholarship': 3.846200539583027, 'refinement': 4.944812828251137, 'publication': 12.754996943073575, 'responsibility': 11.222520071775602, 'planning': 4.097514967863933, 'treatment': 18.628523023197424, 'humility': 5.350277936359301, 'empathic': 5.350277936359301, 'recommendation': 5.350277936359301, 'training': 3.846200539583027, 'enroll': 24.5850898071836, 'req': 27.942784534796136, 'professional': 21.873179064725257, 'complexity': 22.445040143551203, 'individual': 23.077203237498164, 'sensitivity': 16.050833809077904, 'client': 41.914176802194206, 'receive': 10.936589532362628, 'complement': 13.971392267398068, 'maat': 5.350277936359301, 'counsel': 34.61368979775796, 'psychology': 4.433987204485146, 'neighbor': 4.944812828251137, 'counseling': 21.401111745437206, 'psychotherapy': 9.889625656502274, 'lay': 4.657130755799356, 'therapy': 48.77385924933661, 'statement': 3.2102117728630306, 'cv': 4.097514967863933, 'tutorial': 3.645529844120876, 'dynamic': 11.891950725718232, 'format': 6.306106718046164, 'basis': 3.5585184671312464, 'html': 4.433987204485146, 'mark': 4.097514967863933, 'hypertext': 5.350277936359301, 'nexus': 5.350277936359301, 'hub': 5.350277936359301, 'function': 3.153053359023082, 'share': 3.2102117728630306, 'file': 3.645529844120876, 'launch': 4.944812828251137, 'web': 23.077203237498164, 'paper': 2.7112206067440425, 'auslander': 5.350277936359301, 'philip': 4.944812828251137, 'frieling': 5.350277936359301, 'rudolf': 5.350277936359301, 'daniel': 5.350277936359301, 'dieter': 4.944812828251137, 'photography': 3.098986137752806, 'telecommunication': 4.944812828251137, 'auditory': 5.350277936359301, 'pure': 5.350277936359301, 'twentieth': 4.944812828251137, 'cod': 4.657130755799356, 'javascript': 4.251665647691191, 'homework': 4.433987204485146, 'sell': 4.657130755799356, 'buy': 4.657130755799356, 'transform': 3.47847575945771, 'terra0': 5.350277936359301, 'oliver': 5.350277936359301, 'julian': 5.350277936359301, 'rothenberg': 5.350277936359301, 'labs': 5.350277936359301, 'larva': 5.350277936359301, 'bitnik': 5.350277936359301, 'sarah': 4.944812828251137, 'lund': 5.350277936359301, 'jonas': 5.350277936359301, 'sussman': 5.350277936359301, 'eve': 4.944812828251137, 'wei': 10.700555872718603, 'filippi': 5.350277936359301, 'primavera': 5.350277936359301, 'contract': 4.251665647691191, 'dapps': 5.350277936359301, 'token': 5.350277936359301, 'solidity': 5.350277936359301, 'ethereum': 5.350277936359301, 'daos': 5.350277936359301, 'decentralize': 10.700555872718603, 'oracle': 5.350277936359301, 'mining': 5.350277936359301, 'basic': 4.097514967863933, 'cryptoart': 5.350277936359301, 'magic': 5.350277936359301, 'meme': 5.350277936359301, 'solutionism': 5.350277936359301, 'computation': 5.350277936359301, 'posthumanism': 5.350277936359301, 'libertarianism': 5.350277936359301, 'capitalism': 8.867974408970293, 'anarcho': 5.350277936359301, 'internet': 4.097514967863933, 'cryptography': 10.700555872718603, 'money': 5.350277936359301, 'thread': 4.433987204485146, 'weave': 4.433987204485146, 'experimentation': 3.404367787303988, 'scheme': 4.944812828251137, 'enterprise': 4.944812828251137, 'crypto': 16.050833809077904, 'company': 4.657130755799356, 'government': 4.251665647691191, 'techno': 5.350277936359301, 'blockchains': 10.700555872718603, 'cash': 5.350277936359301, 'facilitate': 3.740840023925201, 'networkextends': 5.350277936359301, 'occur': 4.251665647691191, 'transaction': 5.350277936359301, 'proof': 4.944812828251137, 'ledger': 5.350277936359301, 'blockchainsnetworked': 5.350277936359301, 'dollar': 4.944812828251137, 'cat': 5.350277936359301, 'adoption': 5.350277936359301, 'cryptocurrencies': 16.050833809077904, 'decade': 4.433987204485146, 'banking': 5.350277936359301, 'centralize': 5.350277936359301, 'alternative': 4.251665647691191, 'blockchain': 32.10166761815581, 'bitcoin': 5.350277936359301, 'wake': 4.944812828251137, 'genre': 3.404367787303988, 'hone': 4.433987204485146, 'gameplay': 5.350277936359301, 'alt': 5.350277936359301, 'cue': 9.889625656502274, 'gamut': 5.350277936359301, 'listening': 4.657130755799356, 'player': 5.350277936359301, 'heighten': 5.350277936359301, 'event': 7.291059688241752, 'contextualize': 4.097514967863933, 'grade': 4.251665647691191, 'boundary': 3.740840023925201, 'push': 3.5585184671312464, '3d': 3.846200539583027, 'unity': 5.350277936359301, 'twine': 4.944812828251137, 'workshop': 3.3353749158170367, 'windows': 5.350277936359301, 'mac': 4.657130755799356, 'apply': 2.7112206067440425, 'increase': 14.582119376483504, 'trope': 5.350277936359301, 'subvert': 9.889625656502274, 'intersect': 4.433987204485146, 'grow': 4.097514967863933, 'telepresence': 10.700555872718603, 'embodiment': 9.889625656502274, 'metaphor': 4.433987204485146, 'immersion': 4.251665647691191, 'consciousness': 4.251665647691191, 'craft': 3.645529844120876, 'master': 3.098986137752806, 'cave': 4.657130755799356, 'stereoscopic': 5.350277936359301, 'head': 4.433987204485146, 'set': 3.098986137752806, 'sketch': 3.5585184671312464, 'casey': 5.350277936359301, 'molnar': 5.350277936359301, 'vera': 4.944812828251137, 'sheridan': 4.944812828251137, 'monfort': 5.350277936359301, 'goto': 5.350277936359301, 'rnd': 5.350277936359301, 'chr': 5.350277936359301, 'print': 3.098986137752806, 'enrich': 4.657130755799356, 'multimedia': 5.350277936359301, 'combine': 6.420423545726061, 'synthesizer': 4.944812828251137, '1970s': 4.657130755799356, 'compute': 10.700555872718603, 'deepen': 3.740840023925201, 'retro': 5.350277936359301, 'vintage': 4.944812828251137, 'sonics': 4.657130755799356, 'vr': 4.944812828251137, 'propose': 3.5585184671312464, 'tracking': 4.944812828251137, 'hearing': 4.944812828251137, 'boom': 4.433987204485146, 'reithemans': 4.944812828251137, 'scott': 4.657130755799356, 'spinney': 4.944812828251137, 'middleton': 4.944812828251137, 'burthe': 4.944812828251137, 'colinart': 4.944812828251137, 'blindness': 4.944812828251137, 'note': 3.3353749158170367, 'reality': 15.384802158332109, 'listen': 7.927967150478821, 'presence': 3.9639835752394106, 'action': 3.645529844120876, 'chilvers': 4.944812828251137, 'eno': 4.944812828251137, 'brian': 4.944812828251137, 'crum': 4.944812828251137, 'gena': 4.944812828251137, 'peter': 8.195029935727867, 'walk': 3.9639835752394106, 'miller': 4.433987204485146, 'bur': 4.944812828251137, 'george': 4.251665647691191, 'cardiff': 4.944812828251137, 'janet': 4.944812828251137, 'engines': 4.944812828251137, 'workstation': 4.657130755799356, 'download': 4.657130755799356, 'gamers': 4.944812828251137, 'viewer': 4.097514967863933, 'listener': 4.657130755799356, 'hyperreal': 4.944812828251137, 'physic': 4.251665647691191, 'instrument': 8.867974408970293, 'navigability': 4.944812828251137, 'empower': 4.433987204485146, 'lead': 3.2102117728630306, 'engine': 14.83443848475341, 'embody': 3.740840023925201, 'sculpture': 3.404367787303988, 'intelligence': 4.657130755799356, 'factor': 4.097514967863933, 'scale': 10.936589532362628, 'device': 8.867974408970293, 'controller': 4.944812828251137, 'micro': 4.657130755799356, 'embed': 10.700555872718603, 'furniture': 4.657130755799356, 'word': 3.0476928433652555, 'jenkins': 4.944812828251137, 'henry': 4.657130755799356, 'gehl': 5.350277936359301, 'robert': 4.433987204485146, 'donath': 5.350277936359301, 'judith': 4.657130755799356, 'coleman': 4.944812828251137, 'historian': 8.867974408970293, 'harrell': 5.350277936359301, 'fox': 5.350277936359301, 'twitch': 5.350277936359301, 'youtube': 4.657130755799356, 'tumblr': 4.944812828251137, 'instagram': 5.350277936359301, 'facebook': 5.350277936359301, 'twitter': 5.350277936359301, 'key': 9.314261511598712, 'sreedharan': 5.350277936359301, 'chindu': 5.350277936359301, 'cisneros': 4.944812828251137, 'su': 5.350277936359301, 'bernie': 5.350277936359301, 'weiwei': 5.350277936359301, 'al': 5.350277936359301, 'sherman': 4.944812828251137, 'gannis': 5.350277936359301, 'carla': 4.944812828251137, 'delappe': 5.350277936359301, 'joseph': 4.251665647691191, 'kac': 5.350277936359301, 'eduardo': 5.350277936359301, 'cole': 4.944812828251137, 'jennifer': 4.657130755799356, 'writer': 3.645529844120876, 'lineage': 4.657130755799356, 'grind': 9.314261511598712, 'guest': 4.097514967863933, 'panel': 3.740840023925201, 'envision': 4.944812828251137, 'ownership': 4.944812828251137, 'censorship': 5.350277936359301, 'advertising': 4.944812828251137, 'surveillance': 9.889625656502274, 'traversal': 5.350277936359301, 'author': 13.617471149215952, 'platform': 13.91390303783084, 'culminating': 4.097514967863933, 'finish': 3.645529844120876, 'laboratory': 4.433987204485146, 'mid': 4.657130755799356, 'vary': 2.9989026791958238, 'notebook': 4.657130755799356, 'journal': 3.9639835752394106, 'peer': 3.5585184671312464, 'bioarts': 5.350277936359301, 'podcasts': 4.944812828251137, 'bioethics': 5.350277936359301, 'dive': 4.433987204485146, 'scientist': 8.195029935727867, 'utilize': 3.47847575945771, 'departure': 4.433987204485146, 'serve': 3.2102117728630306, 'biology': 9.889625656502274, 'protocol': 5.350277936359301, 'documentation': 7.291059688241752, 'blog': 4.944812828251137, 'materiality': 3.846200539583027, 'sensor': 9.314261511598712, 'fabric': 4.433987204485146, 'paint': 3.645529844120876, 'fashion': 3.2102117728630306, 'discourse': 6.306106718046164, 'emphasize': 26.682999326536294, 'orta': 5.350277936359301, 'lucy': 5.350277936359301, 'calefato': 5.350277936359301, 'patrizia': 5.350277936359301, 'berzowska': 5.350277936359301, 'joanna': 4.944812828251137, 'dialog': 4.657130755799356, 'prototyped': 5.350277936359301, 'textile': 3.740840023925201, 'exploratory': 4.944812828251137, 'pursue': 3.2102117728630306, 'appropriation': 4.944812828251137, 'subversion': 5.350277936359301, 'vehicle': 4.944812828251137, 'computing': 5.350277936359301, 'wearable': 5.350277936359301, 'follow': 3.404367787303988, 'term': 7.551193776909256, 'exemplify': 4.944812828251137, 'nauman': 5.350277936359301, 'bruce': 4.944812828251137, 'mixing': 4.433987204485146, 'implementation': 4.657130755799356, 'animation': 7.291059688241752, 'emphasis': 12.734587777263833, 'spacial': 5.350277936359301, 'assembly': 4.657130755799356, 'solution': 4.097514967863933, 'industry': 3.098986137752806, 'hardware': 4.251665647691191, 'microprocessor': 5.350277936359301, 'openframeworks': 5.350277936359301, 'advance': 13.08334557871786, 'processing': 8.195029935727867, 'code': 3.846200539583027, 'simulation': 13.971392267398068, 'game': 69.65775445368686, 'visualization': 3.740840023925201, 'stage': 21.351110802787478, 'beginner': 8.195029935727867, 'encourage': 8.242764752744753, 'address': 16.711971473386587, 'synthesis': 8.503331295382383, 'drum': 9.314261511598712, 'midi': 8.867974408970293, 'destruction': 8.503331295382383, 'looping': 9.314261511598712, 'manipulate': 7.481680047850402, 'realize': 12.754996943073575, 'track': 13.30196161345544, 'dance': 7.291059688241752, 'song': 8.503331295382383, 'soundtrack': 12.2925449035918, 'manipulation': 16.354181973397324, 'music': 41.77992868346647, 'logic': 8.195029935727867, 'apple': 9.314261511598712, 'creation': 17.192227719427805, 'repertoire': 4.433987204485146, 'expand': 3.270836394679465, 'continue': 14.582119376483504, 'enable': 3.3353749158170367, 'answer': 4.433987204485146, 'encounter': 3.740840023925201, 'computer': 17.02183893651994, 'link': 3.9639835752394106, 'degree': 3.098986137752806, 'decision': 4.433987204485146, 'switch': 4.433987204485146, 'component': 14.234073868524986, 'introduce': 24.728294258234257, 'electron': 5.350277936359301, 'door': 5.350277936359301, 'element': 6.54167278935893, 'software': 22.895854762756258, 'adobe': 3.740840023925201, 'screen': 6.808735574607976, 'deconstruct': 4.657130755799356, 'parameter': 4.251665647691191, 'lantern': 5.350277936359301, 'projection': 22.16993602242573, 'embrace': 3.846200539583027, 'augment': 7.692401079166054, 'finding': 4.657130755799356, 'conduct': 3.270836394679465, 'significance': 4.433987204485146, 'rig': 5.350277936359301, 'display': 8.503331295382383, 'vision': 3.47847575945771, 'persistence': 4.944812828251137, 'projector': 4.944812828251137, 'receiver': 5.350277936359301, 'transmitter': 5.350277936359301, 'construction': 6.197972275505612, 'jam': 4.944812828251137, 'hactivism': 5.350277936359301, 'power': 7.291059688241752, 'limit': 3.5585184671312464, 'programming': 29.76165953383834, 'electronics': 14.83443848475341, 'background': 3.740840023925201, 'voice': 3.740840023925201, 'radio': 18.628523023197424, 'theoretical': 4.433987204485146, 'thinker': 4.097514967863933, 'practitioner': 6.95695151891542, 'ready': 4.944812828251137, 'impregnate': 5.350277936359301, 'extraction': 5.350277936359301, 'distillation': 5.350277936359301, 'hydro': 5.350277936359301, 'blending': 5.350277936359301, 'equipment': 3.9639835752394106, 'lab': 3.645529844120876, 'perfume': 5.350277936359301, 'scent': 10.700555872718603, 'merge': 4.944812828251137, 'span': 7.927967150478821, 'lighting': 4.251665647691191, 'technologies': 5.350277936359301, 'demonstration': 7.481680047850402, 'exploration': 8.355985736693293, 'body': 8.133661820232128, 'produce': 19.77184504435732, 'expect': 11.995610716783295, 'exhibit': 4.251665647691191, 'addition': 19.77184504435732, 'kaufman': 5.350277936359301, 'dawson': 5.350277936359301, 'paula': 4.944812828251137, 'harman': 5.350277936359301, 'touch': 4.251665647691191, 'article': 7.481680047850402, 'montage': 5.350277936359301, 'juxtaposition': 4.657130755799356, 'hologram': 16.050833809077904, 'style': 2.9989026791958238, 'laser': 19.779251313004547, 'holography': 21.401111745437206, 'familiarize': 3.846200539583027, 'convey': 4.433987204485146, 'light': 50.00060701457935, 'introduction': 9.296958413258418, 'afternoon': 9.889625656502274, 'morning': 9.314261511598712, 'venue': 7.692401079166054, 'composition': 23.830574511127914, 'inter': 9.314261511598712, 'perception': 15.384802158332109, 'expose': 7.291059688241752, 'potential': 10.00612474745111, 'hand': 21.98070600731934, 'grounding': 8.503331295382383, 'department': 5.904765327121861, 'coursework': 6.808735574607976, 'foundation': 23.347624410719256, 'mastery': 4.944812828251137, 'demonstrate': 17.39237879728855, 'determine': 3.645529844120876, 'circuit': 16.050833809077904, 'fabrication': 4.097514967863933, 'speed': 4.433987204485146, 'motor': 16.050833809077904, 'exercise': 11.995610716783295, 'move': 6.420423545726061, 'dancer': 5.350277936359301, 'animator': 4.433987204485146, 'motion': 11.222520071775602, 'control': 11.538601618749082, 'matter': 10.936589532362628, 'll': 3.47847575945771, 'communication': 12.840847091452122, 'tone': 3.9639835752394106, 'interactivity': 13.971392267398068, 'microcontrollers': 16.050833809077904, 'robotics': 5.350277936359301, 'associate': 3.846200539583027, 'technique': 51.80000458171682, 'aesthetic': 10.43542727837313, 'ethic': 15.384802158332109, 'session': 3.740840023925201, 'performance': 8.473647876153137, 'endeavor': 9.314261511598712, 'force': 3.846200539583027, 'market': 7.291059688241752, 'sit': 12.754996943073575, 'researcher': 4.657130755799356, 'narrative': 6.670749831634073, 'scholar': 9.296958413258418, 'architecture': 2.907930900990097, 'audio': 33.66756021532681, 'intervention': 4.433987204485146, 'team': 6.95695151891542, 'review': 5.9978053583916475, 'accord': 7.291059688241752, 'energy': 4.433987204485146, 'access': 14.234073868524986, 'crisis': 4.251665647691191, 'app': 4.657130755799356, 'record': 10.43542727837313, 'politics': 3.2102117728630306, 'lecture': 16.485529505489506, 'installation': 23.619061308487446, 'mapping': 4.433987204485146, 'sound': 51.36338836580849, 'live': 3.740840023925201, 'piece': 12.190771373461022, 'video': 8.857147990682792, 'object': 16.947295752306275, 'representation': 3.153053359023082, 'screening': 3.153053359023082, 'recording': 7.692401079166054, 'movement': 5.6490985841020915, 'family': 15.855934300957642, 'gender': 6.197972275505612, 'life': 2.7475882509149177, 'bring': 3.098986137752806, 'society': 9.459160077069246, 'tool': 14.761913317804654, 'application': 13.737941254574588, 'participate': 8.473647876153137, 'twenty': 4.097514967863933, 'start': 10.43542727837313, 'leave': 3.846200539583027, 'preparation': 3.645529844120876, 'sample': 3.3353749158170367, 'day': 9.459160077069246, 'implement': 3.9639835752394106, 'cover': 14.12727397683186, 'attend': 30.639310085735893, 'connection': 3.740840023925201, 'groundwork': 4.944812828251137, 'relationship': 13.211138676285456, 'program': 30.98986137752806, 'require': 22.592354830009853, 'participation': 17.02183893651994, 'organization': 3.404367787303988, 'graduate': 2.7475882509149177, 'internship': 37.40840023925201, 'week': 8.857147990682792, 'hour': 30.01837424235333, 'site': 18.286157060191535, 'field': 22.147837204301517, 'choice': 3.270836394679465, 'supervision': 44.33987204485146, 'time': 9.730028817100088, 'instructor': 3.2102117728630306, 'fieldwork': 39.90588484036632, 'thesis': 2.8245492920510458, 'context': 10.437751649736402, 'choose': 3.098986137752806, 'orientation': 8.867974408970293, 'theme': 3.3353749158170367, 'topic': 16.659044295527202, 'sequence': 3.740840023925201, 'content': 14.539654504950486, 'ability': 9.296958413258418, 'cognitive': 4.944812828251137, 'ethnicity': 8.867974408970293, 'class': 47.56009923462764, 'reflect': 3.47847575945771, 'sense': 3.740840023925201, 'focus': 28.76217498496961, 'concept': 30.932270569434237, 'exhibition': 18.286157060191535, 'variety': 13.556103033720213, 'interaction': 23.347624410719256, 'text': 8.473647876153137, 'critique': 16.485529505489506, 'implication': 7.291059688241752, 'expression': 11.631723603960388, 'environment': 19.497300052284352, 'classroom': 3.846200539583027, 'medium': 73.03120003922189, 'technology': 32.11355144319327, 'emerge': 10.675555401393739, 'aspect': 2.7112206067440425, 'service': 34.615804856247244, 'introduces': 6.95695151891542, 'la': 4.657130755799356, 'de': 3.270836394679465, 'sandra': 4.657130755799356, 'dimension': 4.433987204485146, 'form': 22.392693498868496, 'collection': 3.0476928433652555, 'draw': 2.907930900990097, 'play': 5.904765327121861, 'artists': 7.291059688241752, 'role': 7.640752666358299, 'meaning': 3.3353749158170367, 'system': 14.99451339597912, 'create': 39.63341602885637, 'sign': 3.9639835752394106, 'shape': 9.459160077069246, 'proposal': 5.815861801980194, 'observation': 11.538601618749082, 'space': 20.05759900599911, 'model': 2.907930900990097, 'examine': 17.377792848090845, 'consumption': 4.251665647691191, 'deal': 4.251665647691191, 'inform': 9.812509184038396, 'survey': 3.47847575945771, 'production': 17.192227719427805, 'theorist': 3.47847575945771, 'century': 6.197972275505612, 'involve': 13.617471149215952, 'semester': 26.422277352570912, 'midterm': 8.195029935727867, 'literature': 3.3353749158170367, 'analysis': 2.7475882509149177, 'respond': 3.2102117728630306, 'essay': 3.270836394679465, 'theory': 14.435033743157163, 'race': 7.291059688241752, 'disability': 7.927967150478821, 'issue': 23.484941211906904, 'gain': 15.765266795115409, 'understanding': 16.947295752306275, 'investigate': 23.99122143356659, 'impact': 9.630635318589093, 'history': 10.861120530056779, 'framework': 3.098986137752806, 'historical': 9.314261511598712, 'investigation': 9.812509184038396, 'offer': 5.03412918460617, 'challenge': 2.907930900990097, 'difference': 17.735948817940585, 'development': 39.47899527376539, 'evolve': 3.5585184671312464, 'complete': 7.640752666358299, 'language': 13.380646434663863, 'document': 3.47847575945771, 'material': 9.730028817100088, 'presentation': 14.326856432856506, 'image': 14.122746460255229, 'artwork': 26.990124112762413, 'accompany': 4.251665647691191, 'write': 4.919812356926274, 'response': 6.197972275505612, 'discussion': 20.875503299472804, 'assignment': 19.497300052284352, 'possibility': 12.395944551011224, 'principle': 6.095385686730511, 'studio': 18.978544247208298, 'behavior': 7.927967150478821, 'sonia': 4.944812828251137, 'build': 18.978544247208298, 'perspective': 6.306106718046164, 'study': 15.592644437577167, 'reading': 24.728294258234257, 'storytelling': 7.117036934262493, 'source': 6.54167278935893, 'culture': 2.4058389571928607, 'art': 68.74164652550972, 'engage': 7.4642311662894985, 'activity': 6.54167278935893, 'writing': 2.907930900990097, 'literacy': 3.9639835752394106, 'edit': 6.95695151891542, 'process': 18.732905008529407, 'data': 3.5585184671312464, 'base': 35.697952061844006, 'standardize': 4.944812828251137, 'assessment': 23.783901451436464, 'standard': 24.909629269918725, 'strategy': 11.461485146285204, 'learn': 20.375340443622132, 'student': 168.13195898889637, 'participant': 3.5585184671312464, 'idea': 2.6761292869327726, 'explore': 39.906098201081996, 'practice': 42.98787048154302, 'range': 16.140288490451148, 'understand': 5.422441213488085, 'develop': 31.629296762013794, 'setting': 3.740840023925201, 'community': 2.865371286571301, 'experience': 54.79819616111611, 'learning': 22.471482410041215, 'structure': 10.84488242697617, 'skill': 53.586620154943596, 'knowledge': 10.568910941028365, 'artist': 38.07781553263361, 'teach': 10.84488242697617, 'provide': 34.055100859850306, 'method': 5.15537842823904, 'design': 15.727101384108217, 'project': 43.7851296769504, 'approach': 36.53213077407741, 'relate': 22.596394336408366}\n"
     ]
    }
   ],
   "source": [
    "# create a dictionary to store the word/key and tfidf/value\n",
    "dict_of_tokens2 = {i[1]:i[0] for i in vectorizer2.vocabulary_.items()}\n",
    "tfidf_vectors2 = []\n",
    "for row in X2:\n",
    "    tfidf_vectors2.append({dict_of_tokens2[column]:value for (column,value) in zip(row.indices,row.data)})\n",
    "\n",
    "\n",
    "#words for document 0\n",
    "print(tfidf_vectors2[0])\n",
    "#words for document 1\n",
    "print(tfidf_vectors2[1])"
   ]
  },
  {
   "cell_type": "markdown",
   "id": "880dbc99",
   "metadata": {},
   "source": [
    "# Select the first 10 words as keywords"
   ]
  },
  {
   "cell_type": "code",
   "execution_count": 8,
   "id": "ecdf7a2f",
   "metadata": {},
   "outputs": [],
   "source": [
    "keyword_vectors2 = []\n",
    "for i in range(len(tfidf_vectors2)):\n",
    "    document_i = tfidf_vectors2[i]\n",
    "    if len(document_i.keys()) <= 10:    #保留整个document的words\n",
    "        keyword_vectors2.append(document_i) \n",
    "    else:\n",
    "        a = sorted(document_i.items(), key=lambda document_i: document_i[1], reverse=True)\n",
    "        for j in range(len(a)-1,9,-1):  #从后往前删除\n",
    "            #if a[j][1] != a[9][1]:\n",
    "                a.pop(j)\n",
    "        keyword_vectors2.append(dict(a)) \n",
    "        "
   ]
  },
  {
   "cell_type": "code",
   "execution_count": 9,
   "id": "eff2bba2",
   "metadata": {},
   "outputs": [
    {
     "name": "stdout",
     "output_type": "stream",
     "text": [
      "{'student': 162.33430523065857, 'teach': 113.87126548324979, 'school': 112.98197168204183, 'community': 85.96113859713903, 'standard': 85.40444321114991, 'placement': 83.82835360438841, 'learn': 76.407526663583, 'teacher': 75.3156879295488, 'artmaking': 74.5140920927897, 'project': 72.97521612825066}\n",
      "{'student': 168.13195898889637, 'medium': 73.03120003922189, 'game': 69.65775445368686, 'art': 68.74164652550972, 'experience': 54.79819616111611, 'skill': 53.586620154943596, 'technique': 51.80000458171682, 'sound': 51.36338836580849, 'light': 50.00060701457935, 'therapy': 48.77385924933661}\n"
     ]
    }
   ],
   "source": [
    "#key words for document 0\n",
    "print(keyword_vectors2[0])\n",
    "\n",
    "\n",
    "#key words for document 1\n",
    "print(keyword_vectors2[1])"
   ]
  },
  {
   "cell_type": "code",
   "execution_count": 10,
   "id": "ab361332",
   "metadata": {},
   "outputs": [
    {
     "ename": "NameError",
     "evalue": "name 'D' is not defined",
     "output_type": "error",
     "traceback": [
      "\u001b[1;31m---------------------------------------------------------------------------\u001b[0m",
      "\u001b[1;31mNameError\u001b[0m                                 Traceback (most recent call last)",
      "\u001b[1;32m~\\AppData\\Local\\Temp\\ipykernel_37092\\2438987149.py\u001b[0m in \u001b[0;36m<module>\u001b[1;34m\u001b[0m\n\u001b[0;32m      7\u001b[0m \u001b[1;33m\u001b[0m\u001b[0m\n\u001b[0;32m      8\u001b[0m \u001b[1;33m\u001b[0m\u001b[0m\n\u001b[1;32m----> 9\u001b[1;33m \u001b[0mD\u001b[0m \u001b[1;33m=\u001b[0m \u001b[0mD\u001b[0m\u001b[1;33m.\u001b[0m\u001b[0mT\u001b[0m\u001b[1;33m\u001b[0m\u001b[1;33m\u001b[0m\u001b[0m\n\u001b[0m\u001b[0;32m     10\u001b[0m \u001b[0mD\u001b[0m\u001b[1;33m.\u001b[0m\u001b[0mto_excel\u001b[0m\u001b[1;33m(\u001b[0m\u001b[1;34m\"keywords_program(2).xlsx\"\u001b[0m\u001b[1;33m,\u001b[0m \u001b[0mheader\u001b[0m\u001b[1;33m=\u001b[0m\u001b[1;32mTrue\u001b[0m\u001b[1;33m,\u001b[0m \u001b[0mindex\u001b[0m\u001b[1;33m=\u001b[0m\u001b[1;32mTrue\u001b[0m\u001b[1;33m,\u001b[0m \u001b[0mengine\u001b[0m\u001b[1;33m=\u001b[0m\u001b[1;34m'openpyxl'\u001b[0m\u001b[1;33m)\u001b[0m\u001b[1;33m\u001b[0m\u001b[1;33m\u001b[0m\u001b[0m\n",
      "\u001b[1;31mNameError\u001b[0m: name 'D' is not defined"
     ]
    }
   ],
   "source": [
    "D2 = pd.DataFrame(keyword_vectors2[0].keys())\n",
    "\n",
    "\n",
    "for i in range(1,len(keyword_vectors2)):\n",
    "    df_b = pd.DataFrame(keyword_vectors2[i].keys())\n",
    "    D2 = pd.concat([D2.reset_index(drop=True), df_b], axis=1)\n",
    "\n",
    "    \n",
    "D = D.T\n",
    "D.to_excel(\"keywords_program(2).xlsx\", header=True, index=True, engine='openpyxl')"
   ]
  },
  {
   "cell_type": "markdown",
   "id": "9a1eb3e1",
   "metadata": {},
   "source": [
    "# Topic finding"
   ]
  },
  {
   "cell_type": "code",
   "execution_count": 58,
   "id": "f8aae44a",
   "metadata": {},
   "outputs": [],
   "source": [
    "# list_of_list_of_tokens = [[\"a\",\"b\",\"c\"], [\"d\",\"e\",\"f\"]]\n",
    "# [\"a\",\"b\",\"c\"] are the tokens of document 1, [\"d\",\"e\",\"f\"] are the tokens of document 2...\n",
    "content2 = df2['description']\n",
    "list_of_list_of_tokens2 = []\n",
    "for i in range(len(content2)):\n",
    "    a = content2[i]\n",
    "    a = a.replace(\",\",\" \")\n",
    "    a = a.replace(\"'\",\"\")\n",
    "    a = a.replace(\"[\",\"\")\n",
    "    a = a.replace(\"]\",\"\")\n",
    "    list_of_list_of_tokens2.append(a.split(\" \"))"
   ]
  },
  {
   "cell_type": "code",
   "execution_count": 59,
   "id": "44d62991",
   "metadata": {},
   "outputs": [],
   "source": [
    "dictionary_LDA2 = corpora.Dictionary(list_of_list_of_tokens2)\n",
    "dictionary_LDA2.filter_extremes(no_below=3)\n",
    "corpus2 = [dictionary_LDA2.doc2bow(list_of_tokens) for list_of_tokens in list_of_list_of_tokens2]\n",
    "\n",
    "num_topics = 2 #can change this number of topic\n",
    "lda_model2 = models.LdaModel(corpus2, num_topics=num_topics, \n",
    "                            id2word=dictionary_LDA2,                                   \n",
    "                            passes=4, alpha=[0.01]*num_topics,\n",
    "                            eta=[0.01]*len(dictionary_LDA2.keys()))"
   ]
  },
  {
   "cell_type": "code",
   "execution_count": 60,
   "id": "5076bc93",
   "metadata": {},
   "outputs": [
    {
     "name": "stdout",
     "output_type": "stream",
     "text": [
      "0: 0.048*\"student\" + 0.024*\"project\" + 0.017*\"semester\" + 0.017*\"practice\" + 0.016*\"graduate\" + 0.015*\"study\" + 0.013*\"focus\" + 0.013*\"class\" + 0.013*\"studio\" + 0.013*\"painting\"\n",
      "\n",
      "1: 0.048*\"student\" + 0.019*\"design\" + 0.018*\"class\" + 0.013*\"project\" + 0.012*\"explore\" + 0.009*\"practice\" + 0.008*\"artist\" + 0.008*\"reading\" + 0.008*\"studio\" + 0.007*\"develop\"\n",
      "\n"
     ]
    }
   ],
   "source": [
    "#print topic found:\n",
    "for i,topic in lda_model2.show_topics(formatted=True, num_topics=num_topics, num_words=10):\n",
    "    print(str(i)+\": \"+ topic)\n",
    "    print()"
   ]
  },
  {
   "cell_type": "code",
   "execution_count": 61,
   "id": "4a236aa0",
   "metadata": {},
   "outputs": [
    {
     "data": {
      "text/plain": [
       "[(0, 0.9999944)]"
      ]
     },
     "execution_count": 61,
     "metadata": {},
     "output_type": "execute_result"
    }
   ],
   "source": [
    "#To print the % of topics a document is about, do the following:\n",
    "#(14, 0.9983065953654187)means the first document is 99.8% about topic 14.\n",
    "\n",
    "lda_model2[corpus2[0]] # corpus[0] means the first document."
   ]
  },
  {
   "cell_type": "code",
   "execution_count": null,
   "id": "a98c3cae",
   "metadata": {},
   "outputs": [],
   "source": []
  }
 ],
 "metadata": {
  "kernelspec": {
   "display_name": "Python 3 (ipykernel)",
   "language": "python",
   "name": "python3"
  },
  "language_info": {
   "codemirror_mode": {
    "name": "ipython",
    "version": 3
   },
   "file_extension": ".py",
   "mimetype": "text/x-python",
   "name": "python",
   "nbconvert_exporter": "python",
   "pygments_lexer": "ipython3",
   "version": "3.9.13"
  }
 },
 "nbformat": 4,
 "nbformat_minor": 5
}
